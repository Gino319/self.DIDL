{
 "cells": [
  {
   "cell_type": "code",
   "execution_count": 1,
   "id": "015b538f",
   "metadata": {},
   "outputs": [],
   "source": [
    "import torch"
   ]
  },
  {
   "cell_type": "markdown",
   "id": "4759caac",
   "metadata": {},
   "source": [
    "### Tensor"
   ]
  },
  {
   "cell_type": "code",
   "execution_count": 19,
   "id": "ff8665b0",
   "metadata": {},
   "outputs": [
    {
     "data": {
      "text/plain": [
       "(tensor([[1., 1.],\n",
       "         [1., 1.]], requires_grad=True),\n",
       " None)"
      ]
     },
     "execution_count": 19,
     "metadata": {},
     "output_type": "execute_result"
    }
   ],
   "source": [
    "x = torch.ones([2, 2], requires_grad=True)\n",
    "x, x.grad_fn"
   ]
  },
  {
   "cell_type": "code",
   "execution_count": 20,
   "id": "d6e07127",
   "metadata": {},
   "outputs": [
    {
     "data": {
      "text/plain": [
       "(tensor([[3., 3.],\n",
       "         [3., 3.]], grad_fn=<AddBackward0>),\n",
       " <AddBackward0 at 0x21443babfa0>)"
      ]
     },
     "execution_count": 20,
     "metadata": {},
     "output_type": "execute_result"
    }
   ],
   "source": [
    "y = x + 2\n",
    "y, y.grad_fn"
   ]
  },
  {
   "cell_type": "code",
   "execution_count": 21,
   "id": "8476c937",
   "metadata": {},
   "outputs": [
    {
     "data": {
      "text/plain": [
       "(True, False)"
      ]
     },
     "execution_count": 21,
     "metadata": {},
     "output_type": "execute_result"
    }
   ],
   "source": [
    "x.is_leaf, y.is_leaf"
   ]
  },
  {
   "cell_type": "code",
   "execution_count": 22,
   "id": "ec9200e2",
   "metadata": {},
   "outputs": [
    {
     "data": {
      "text/plain": [
       "(tensor([[27., 27.],\n",
       "         [27., 27.]], grad_fn=<MulBackward0>),\n",
       " tensor(27., grad_fn=<MeanBackward0>))"
      ]
     },
     "execution_count": 22,
     "metadata": {},
     "output_type": "execute_result"
    }
   ],
   "source": [
    "z = y * y * 3\n",
    "out = torch.mean(z)\n",
    "z, out"
   ]
  },
  {
   "cell_type": "code",
   "execution_count": 23,
   "id": "a123505d",
   "metadata": {},
   "outputs": [
    {
     "name": "stdout",
     "output_type": "stream",
     "text": [
      "False None\n",
      "True None\n",
      "True <SumBackward0 object at 0x000002144C5B5BD0>\n"
     ]
    }
   ],
   "source": [
    "a = torch.randn([3, 3]) # 默认require_grad=False\n",
    "a = ((a * 3) / (a - 1))\n",
    "print(a.requires_grad, a.grad_fn)\n",
    "\n",
    "a.requires_grad_(True)\n",
    "print(a.requires_grad, a.grad_fn)\n",
    "\n",
    "b = (a * a).sum()\n",
    "print(b.requires_grad, b.grad_fn)"
   ]
  },
  {
   "cell_type": "markdown",
   "id": "88cf3d45",
   "metadata": {},
   "source": [
    "### 梯度\n",
    "Tensor.backward()开始反向传播，建立梯度。"
   ]
  },
  {
   "cell_type": "code",
   "execution_count": 24,
   "id": "3ead029a",
   "metadata": {},
   "outputs": [
    {
     "data": {
      "text/plain": [
       "tensor([[4.5000, 4.5000],\n",
       "        [4.5000, 4.5000]])"
      ]
     },
     "execution_count": 24,
     "metadata": {},
     "output_type": "execute_result"
    }
   ],
   "source": [
    "out.backward()\n",
    "x.grad"
   ]
  },
  {
   "cell_type": "code",
   "execution_count": 26,
   "id": "cc7d4549",
   "metadata": {},
   "outputs": [
    {
     "name": "stdout",
     "output_type": "stream",
     "text": [
      "tensor([[6.5000, 6.5000],\n",
      "        [6.5000, 6.5000]])\n",
      "tensor([[1., 1.],\n",
      "        [1., 1.]])\n"
     ]
    }
   ],
   "source": [
    "# 注意反向传播梯度累加\n",
    "out2 = x.sum()\n",
    "out2.backward()\n",
    "print(x.grad)\n",
    "\n",
    "x.grad.data.zero_()\n",
    "out3 = x.sum()\n",
    "out3.backward()\n",
    "print(x.grad)"
   ]
  },
  {
   "cell_type": "code",
   "execution_count": 37,
   "id": "3180199d",
   "metadata": {},
   "outputs": [
    {
     "name": "stdout",
     "output_type": "stream",
     "text": [
      "tensor([2., 2., 2., 2.])\n"
     ]
    }
   ],
   "source": [
    "x = torch.tensor([1.0, 2.0, 3.0, 4.0], requires_grad=True)\n",
    "y = 2 * x\n",
    "z = y.view(2, 2)\n",
    "u = torch.ones([2, 2], dtype=torch.float32)\n",
    "v = torch.tensor([[1.0, 0.1], [0.01, 0.001]], dtype=torch.float32)\n",
    "\n",
    "z.backward(u)\n",
    "print(x.grad)"
   ]
  },
  {
   "cell_type": "code",
   "execution_count": 39,
   "id": "8aaa3f6a",
   "metadata": {},
   "outputs": [
    {
     "data": {
      "text/plain": [
       "(True, True, False, True)"
      ]
     },
     "execution_count": 39,
     "metadata": {},
     "output_type": "execute_result"
    }
   ],
   "source": [
    "x = torch.tensor([1.0], requires_grad=True)\n",
    "y1 = x ** 2\n",
    "with torch.no_grad():\n",
    "    y2 = x ** 3\n",
    "y3 = y1 + y2\n",
    "x.requires_grad, y1.requires_grad, y2.requires_grad, y3.requires_grad"
   ]
  },
  {
   "cell_type": "code",
   "execution_count": 40,
   "id": "d399ed16",
   "metadata": {},
   "outputs": [
    {
     "data": {
      "text/plain": [
       "tensor([2.])"
      ]
     },
     "execution_count": 40,
     "metadata": {},
     "output_type": "execute_result"
    }
   ],
   "source": [
    "y3.backward()\n",
    "x.grad # 由于y2没有梯度，所以x的梯度只有y1的，也就是2"
   ]
  },
  {
   "cell_type": "code",
   "execution_count": 47,
   "id": "59a18e5e",
   "metadata": {},
   "outputs": [
    {
     "name": "stdout",
     "output_type": "stream",
     "text": [
      "tensor([4.], grad_fn=<MulBackward0>) tensor([4.])\n",
      "tensor([4.], grad_fn=<MulBackward0>) tensor([2.])\n"
     ]
    }
   ],
   "source": [
    "# 对data操作可以修改Tensor的值，同时梯度不被记录，不影响反向传播\n",
    "x = torch.tensor([1.0], requires_grad=True)\n",
    "y = 2 * x\n",
    "y *= 2\n",
    "y.backward()\n",
    "print(y, x.grad)\n",
    "\n",
    "z = 2 * x\n",
    "z.data *= 2\n",
    "x.grad.data.zero_()\n",
    "z.backward()\n",
    "print(z, x.grad)"
   ]
  },
  {
   "cell_type": "code",
   "execution_count": null,
   "id": "96800fd1",
   "metadata": {},
   "outputs": [],
   "source": []
  }
 ],
 "metadata": {
  "kernelspec": {
   "display_name": "Python 3 (ipykernel)",
   "language": "python",
   "name": "python3"
  },
  "language_info": {
   "codemirror_mode": {
    "name": "ipython",
    "version": 3
   },
   "file_extension": ".py",
   "mimetype": "text/x-python",
   "name": "python",
   "nbconvert_exporter": "python",
   "pygments_lexer": "ipython3",
   "version": "3.11.5"
  }
 },
 "nbformat": 4,
 "nbformat_minor": 5
}
