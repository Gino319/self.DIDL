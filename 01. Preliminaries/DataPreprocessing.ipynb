{
 "cells": [
  {
   "cell_type": "code",
   "execution_count": 24,
   "id": "a384d3f6",
   "metadata": {},
   "outputs": [],
   "source": [
    "import os\n",
    "import pandas as pd\n",
    "import torch"
   ]
  },
  {
   "cell_type": "markdown",
   "id": "734e21e8",
   "metadata": {},
   "source": [
    "### 2.2.1 读取数据集"
   ]
  },
  {
   "cell_type": "code",
   "execution_count": 19,
   "id": "5bebce25",
   "metadata": {},
   "outputs": [],
   "source": [
    "# 创建数据集\n",
    "os.makedirs(os.path.join('..', 'data'), exist_ok=True)\n",
    "data_file = os.path.join('..', 'data', 'house_tiny.csv')\n",
    "\n",
    "with open(data_file, 'w') as f:\n",
    "    # write内容里面不要有空格\n",
    "    f.write('NumRooms, Alley, Price\\n')\n",
    "    f.write('NA,Pave,12750\\n')\n",
    "    f.write('2,NA,106000\\n')\n",
    "    f.write('4,NA,178100\\n')\n",
    "    f.write('NA,NA,140000\\n')"
   ]
  },
  {
   "cell_type": "code",
   "execution_count": 21,
   "id": "e5fd66fa",
   "metadata": {},
   "outputs": [
    {
     "name": "stdout",
     "output_type": "stream",
     "text": [
      "   NumRooms  Alley   Price\n",
      "0       NaN   Pave   12750\n",
      "1       2.0    NaN  106000\n",
      "2       4.0    NaN  178100\n",
      "3       NaN    NaN  140000\n"
     ]
    }
   ],
   "source": [
    "# 读取数据集\n",
    "data = pd.read_csv(data_file)\n",
    "print(data)"
   ]
  },
  {
   "cell_type": "markdown",
   "id": "88090eeb",
   "metadata": {},
   "source": [
    "### 2.2.2 处理缺失值"
   ]
  },
  {
   "cell_type": "code",
   "execution_count": 22,
   "id": "40362492",
   "metadata": {},
   "outputs": [
    {
     "name": "stdout",
     "output_type": "stream",
     "text": [
      "   NumRooms  Alley\n",
      "0       3.0   Pave\n",
      "1       2.0    NaN\n",
      "2       4.0    NaN\n",
      "3       3.0    NaN\n",
      "    Price\n",
      "0   12750\n",
      "1  106000\n",
      "2  178100\n",
      "3  140000\n"
     ]
    }
   ],
   "source": [
    "# DataFrame.iloc[]方法用于索引切片\n",
    "inputs, outputs = data.iloc[:, 0:2], data.iloc[:, 2:]\n",
    "# 用均值填充离散的缺失值，numeric_only=True表示只对数值部分取均值\n",
    "inputs = inputs.fillna(inputs.mean(numeric_only=True))\n",
    "print(inputs)\n",
    "print(outputs)"
   ]
  },
  {
   "cell_type": "code",
   "execution_count": 23,
   "id": "b3831029",
   "metadata": {},
   "outputs": [
    {
     "name": "stdout",
     "output_type": "stream",
     "text": [
      "   NumRooms   Alley_Pave   Alley_nan\n",
      "0       3.0            1           0\n",
      "1       2.0            0           1\n",
      "2       4.0            0           1\n",
      "3       3.0            0           1\n"
     ]
    }
   ],
   "source": [
    "# 将非数值部分转换为独热码，dummy_na=True表示为NA单独编码\n",
    "inputs = pd.get_dummies(inputs, dummy_na=True)\n",
    "print(inputs)"
   ]
  },
  {
   "cell_type": "markdown",
   "id": "c84bbba0",
   "metadata": {},
   "source": [
    "### 2.2.3 转换成张量格式"
   ]
  },
  {
   "cell_type": "code",
   "execution_count": 25,
   "id": "734a338e",
   "metadata": {},
   "outputs": [
    {
     "data": {
      "text/plain": [
       "(tensor([[3., 1., 0.],\n",
       "         [2., 0., 1.],\n",
       "         [4., 0., 1.],\n",
       "         [3., 0., 1.]]),\n",
       " tensor([[ 12750.],\n",
       "         [106000.],\n",
       "         [178100.],\n",
       "         [140000.]]))"
      ]
     },
     "execution_count": 25,
     "metadata": {},
     "output_type": "execute_result"
    }
   ],
   "source": [
    "X = torch.Tensor(inputs.to_numpy(dtype=float))\n",
    "y = torch.Tensor(outputs.to_numpy(dtype=float))\n",
    "X, y"
   ]
  }
 ],
 "metadata": {
  "kernelspec": {
   "display_name": "Python 3 (ipykernel)",
   "language": "python",
   "name": "python3"
  },
  "language_info": {
   "codemirror_mode": {
    "name": "ipython",
    "version": 3
   },
   "file_extension": ".py",
   "mimetype": "text/x-python",
   "name": "python",
   "nbconvert_exporter": "python",
   "pygments_lexer": "ipython3",
   "version": "3.11.5"
  }
 },
 "nbformat": 4,
 "nbformat_minor": 5
}
