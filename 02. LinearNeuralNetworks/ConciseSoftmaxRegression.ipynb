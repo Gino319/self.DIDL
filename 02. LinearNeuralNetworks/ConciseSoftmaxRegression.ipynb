{
 "cells": [
  {
   "cell_type": "code",
   "execution_count": 18,
   "id": "af9f93d9",
   "metadata": {},
   "outputs": [],
   "source": [
    "import torch\n",
    "from torch import nn\n",
    "import torch.nn.functional as F\n",
    "import torch.nn.init as init\n",
    "import torch.utils.data as Data\n",
    "import torchvision\n",
    "import torchvision.transforms as transforms\n",
    "import numpy"
   ]
  },
  {
   "cell_type": "code",
   "execution_count": 19,
   "id": "8fb9ae3e",
   "metadata": {},
   "outputs": [],
   "source": [
    "# 读入数据\n",
    "mnist_train = torchvision.datasets.FashionMNIST(root='E:/Datasets/FashionMNIST', train=True, transform=transforms.ToTensor())\n",
    "mnist_test = torchvision.datasets.FashionMNIST(root='E:/Datasets/FashionMNIST', train=False, transform=transforms.ToTensor())\n",
    "\n",
    "batch_size = 256\n",
    "train_iter = Data.DataLoader(mnist_train, batch_size=batch_size, shuffle=True)\n",
    "test_iter = Data.DataLoader(mnist_test, batch_size=batch_size, shuffle=True)"
   ]
  },
  {
   "cell_type": "code",
   "execution_count": 20,
   "id": "00992d50",
   "metadata": {},
   "outputs": [],
   "source": [
    "# 定义模型\n",
    "# 注意：nn.CrossEntropyLoss()中有softmax运算，所以模型中不需要再重复\n",
    "class SoftmaxNet(nn.Module):\n",
    "    def __init__(self, num_inputs, num_outputs):\n",
    "        super(SoftmaxNet, self).__init__()\n",
    "        self.linear = nn.Linear(num_inputs, num_outputs)\n",
    "    \n",
    "    def forward(self, x):\n",
    "        y = self.linear(x.view(x.shape[0], -1))\n",
    "        return y"
   ]
  },
  {
   "cell_type": "code",
   "execution_count": 25,
   "id": "ba561ce7",
   "metadata": {},
   "outputs": [
    {
     "data": {
      "text/plain": [
       "Parameter containing:\n",
       "tensor([0., 0., 0., 0., 0., 0., 0., 0., 0., 0.], requires_grad=True)"
      ]
     },
     "execution_count": 25,
     "metadata": {},
     "output_type": "execute_result"
    }
   ],
   "source": [
    "# 建立模型\n",
    "num_inputs = 28 * 28\n",
    "num_outputs = 10\n",
    "\n",
    "net = SoftmaxNet(num_inputs, num_outputs)\n",
    "init.normal_(net.linear.weight, mean=0, std=0.01)\n",
    "init.constant_(net.linear.bias, val=0)"
   ]
  },
  {
   "cell_type": "code",
   "execution_count": 22,
   "id": "f596c63f",
   "metadata": {},
   "outputs": [],
   "source": [
    "# 定义损失函数和优化算法\n",
    "loss = nn.CrossEntropyLoss()\n",
    "optimizer = torch.optim.SGD(net.parameters(), lr=0.1)"
   ]
  },
  {
   "cell_type": "code",
   "execution_count": 23,
   "id": "b275e0b0",
   "metadata": {},
   "outputs": [],
   "source": [
    "# 训练集准确率计算\n",
    "def evaluate_accuracy(data_iter, net, device):\n",
    "    acc_sum, n = 0.0, 0\n",
    "    for x, y in data_iter:\n",
    "        x = x.to(device)\n",
    "        y = y.to(device)\n",
    "        y_hat = net(x)\n",
    "        acc_sum += (y_hat.argmax(dim=1) == y).float().sum().item()\n",
    "        n += y.shape[0]\n",
    "    return acc_sum / n"
   ]
  },
  {
   "cell_type": "code",
   "execution_count": 26,
   "id": "90e7f7f4",
   "metadata": {
    "scrolled": false
   },
   "outputs": [
    {
     "name": "stdout",
     "output_type": "stream",
     "text": [
      "epoch  1, loss  2.29, train_acc  0.12, test_acc  0.12\n",
      "epoch  2, loss  2.29, train_acc  0.12, test_acc  0.12\n",
      "epoch  3, loss  2.29, train_acc  0.12, test_acc  0.12\n",
      "epoch  4, loss  2.29, train_acc  0.12, test_acc  0.12\n",
      "epoch  5, loss  2.29, train_acc  0.12, test_acc  0.12\n"
     ]
    }
   ],
   "source": [
    "# 训练模型\n",
    "device = torch.device(\"cuda\" if torch.cuda.is_available() else \"cpu\")\n",
    "net.to(device)\n",
    "\n",
    "num_epochs = 5\n",
    "for epoch in range(num_epochs):\n",
    "    train_l_sum, train_acc_sum, n, m = 0.0, 0.0, 0, 0\n",
    "    for x, y in train_iter:\n",
    "        x = x.to(device)\n",
    "        y = y.to(device)\n",
    "        y_hat = net(x)\n",
    "        l = loss(y_hat, y)\n",
    "        optimizer.zero_grad()\n",
    "        l.backward()\n",
    "        optimizer.step()\n",
    "        \n",
    "        train_l_sum += l.item()\n",
    "        train_acc_sum += (net(x).argmax(dim=1) == y).float().sum().item()\n",
    "        n += y.shape[0]\n",
    "        m += 1\n",
    "    test_acc = evaluate_accuracy(test_iter, net, device)\n",
    "    print(f'epoch {epoch + 1: d}, loss {train_l_sum / m: .2f}, train_acc {train_acc_sum / n: .2f}, test_acc {test_acc: .2f}')"
   ]
  },
  {
   "cell_type": "code",
   "execution_count": null,
   "id": "0da8b03a",
   "metadata": {},
   "outputs": [],
   "source": []
  }
 ],
 "metadata": {
  "kernelspec": {
   "display_name": "Python 3 (ipykernel)",
   "language": "python",
   "name": "python3"
  },
  "language_info": {
   "codemirror_mode": {
    "name": "ipython",
    "version": 3
   },
   "file_extension": ".py",
   "mimetype": "text/x-python",
   "name": "python",
   "nbconvert_exporter": "python",
   "pygments_lexer": "ipython3",
   "version": "3.11.5"
  }
 },
 "nbformat": 4,
 "nbformat_minor": 5
}
