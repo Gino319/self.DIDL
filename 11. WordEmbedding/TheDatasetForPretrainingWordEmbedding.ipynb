{
 "cells": [
  {
   "cell_type": "code",
   "execution_count": 1,
   "metadata": {},
   "outputs": [],
   "source": [
    "import math\n",
    "import os\n",
    "import random\n",
    "import torch\n",
    "import sys\n",
    "sys.path.append('..')\n",
    "import myd2l"
   ]
  },
  {
   "cell_type": "code",
   "execution_count": 2,
   "metadata": {},
   "outputs": [],
   "source": [
    "def read_ptb(path='E:\\Datasets\\ptb\\ptb.train.txt'):\n",
    "    with open(path) as f:\n",
    "        raw_txt = f.read()\n",
    "    return [line.split() for line in raw_txt.split('\\n')]"
   ]
  },
  {
   "cell_type": "code",
   "execution_count": 24,
   "metadata": {},
   "outputs": [
    {
     "name": "stdout",
     "output_type": "stream",
     "text": [
      "42069 887521\n"
     ]
    }
   ],
   "source": [
    "sentences = read_ptb()\n",
    "print(len(sentences), sum(len(line) for line in sentences))"
   ]
  },
  {
   "cell_type": "code",
   "execution_count": 25,
   "metadata": {},
   "outputs": [
    {
     "name": "stdout",
     "output_type": "stream",
     "text": [
      "6720\n"
     ]
    }
   ],
   "source": [
    "vocab = myd2l.Vocab(sentences, min_freq=10)\n",
    "print(len(vocab))"
   ]
  },
  {
   "cell_type": "code",
   "execution_count": null,
   "metadata": {},
   "outputs": [],
   "source": [
    "# 下采样，去掉部分出现次数非常多的词，这类词一般无意义\n",
    "def subsample(sentences, vocab):\n",
    "    sentences = [[token for token in line if vocab[token] != vocab.unk] for line in sentences]\n",
    "    counter = myd2l.count_corpus(sentences)\n",
    "    num_tokens = sum(counter.values())\n",
    "\n",
    "    def keep(token):\n",
    "        return random.uniform(0, 1) < math.sqrt(1e-4 / (counter[token] / num_tokens))\n",
    "\n",
    "    return ([[token for token in line if keep(token)] for line in sentences], counter)\n"
   ]
  },
  {
   "cell_type": "code",
   "execution_count": 31,
   "metadata": {},
   "outputs": [
    {
     "name": "stdout",
     "output_type": "stream",
     "text": [
      "42069 351224\n"
     ]
    }
   ],
   "source": [
    "subsampled, counter = subsample(sentences, vocab)\n",
    "print(len(subsampled), sum(len(line) for line in subsampled))"
   ]
  },
  {
   "cell_type": "code",
   "execution_count": 32,
   "metadata": {},
   "outputs": [],
   "source": [
    "def show_list_len_pair_hist(legend, xlist, ylist, xlabel, ylabel):\n",
    "    ax = myd2l.build_ax(xlabel, ylabel, grid=False)\n",
    "    _, _, patches = ax.hist([[len(line) for line in xlist], [len(line) for line in ylist]])\n",
    "    for patch in patches[1].patches:\n",
    "        patch.set_hatch('/')\n",
    "    ax.legend(legend)"
   ]
  },
  {
   "cell_type": "code",
   "execution_count": 33,
   "metadata": {},
   "outputs": [
    {
     "data": {
      "image/png": "[encoded data removed]",
      "text/plain": [
       "<Figure size 600x300 with 1 Axes>"
      ]
     },
     "metadata": {},
     "output_type": "display_data"
    }
   ],
   "source": [
    "show_list_len_pair_hist(['origin', 'subsampled'], sentences, subsampled, 'origin', 'subsampled')"
   ]
  },
  {
   "cell_type": "code",
   "execution_count": 35,
   "metadata": {},
   "outputs": [
    {
     "name": "stdout",
     "output_type": "stream",
     "text": [
      "50770\n",
      "2076\n",
      "45\n",
      "45\n"
     ]
    }
   ],
   "source": [
    "print(sum(line.count('the') for line in sentences))\n",
    "print(sum(line.count('the') for line in subsampled))\n",
    "print(sum(line.count('join') for line in sentences))\n",
    "print(sum(line.count('join') for line in subsampled))"
   ]
  },
  {
   "cell_type": "code",
   "execution_count": 37,
   "metadata": {},
   "outputs": [
    {
     "data": {
      "text/plain": [
       "[[], [393, 2116, 407], [5278, 3055, 1581, 96]]"
      ]
     },
     "execution_count": 37,
     "metadata": {},
     "output_type": "execute_result"
    }
   ],
   "source": [
    "corpus = [vocab[line] for line in subsampled]\n",
    "corpus[:3]"
   ]
  },
  {
   "cell_type": "code",
   "execution_count": 40,
   "metadata": {},
   "outputs": [],
   "source": [
    "def get_centers_and_contexts(corpus, max_window_size):\n",
    "    centers, contexts = [], []\n",
    "    for line in corpus:\n",
    "        if len(line) < 2:\n",
    "            continue\n",
    "\n",
    "        centers += line\n",
    "        for i in range(len(line)):\n",
    "            windows_size = random.randint(1, max_window_size)\n",
    "            indices = list(range(max(0, i - windows_size), min(len(line), i + windows_size + 1)))\n",
    "            indices.remove(i)\n",
    "            contexts.append([line[i] for i in indices])\n",
    "\n",
    "    return centers, contexts"
   ]
  },
  {
   "cell_type": "code",
   "execution_count": 41,
   "metadata": {},
   "outputs": [
    {
     "name": "stdout",
     "output_type": "stream",
     "text": [
      "数据集 [[0, 1, 2, 3, 4, 5, 6], [7, 8, 9]]\n",
      "中心词 0 的上下文词是 [1]\n",
      "中心词 1 的上下文词是 [0, 2, 3]\n",
      "中心词 2 的上下文词是 [0, 1, 3, 4]\n",
      "中心词 3 的上下文词是 [2, 4]\n",
      "中心词 4 的上下文词是 [2, 3, 5, 6]\n",
      "中心词 5 的上下文词是 [3, 4, 6]\n",
      "中心词 6 的上下文词是 [4, 5]\n",
      "中心词 7 的上下文词是 [8, 9]\n",
      "中心词 8 的上下文词是 [7, 9]\n",
      "中心词 9 的上下文词是 [7, 8]\n"
     ]
    }
   ],
   "source": [
    "tiny_dataset = [list(range(7)), list(range(7, 10))]\n",
    "print('数据集', tiny_dataset)\n",
    "for center, context in zip(*get_centers_and_contexts(tiny_dataset, 2)):\n",
    "    print('中心词', center, '的上下文词是', context)"
   ]
  },
  {
   "cell_type": "code",
   "execution_count": 43,
   "metadata": {},
   "outputs": [
    {
     "name": "stdout",
     "output_type": "stream",
     "text": [
      "1543899\n"
     ]
    }
   ],
   "source": [
    "all_centers, all_contexts = get_centers_and_contexts(corpus, 5)\n",
    "print(sum(len(contexts) for contexts in all_contexts))"
   ]
  },
  {
   "cell_type": "code",
   "execution_count": 46,
   "metadata": {},
   "outputs": [],
   "source": [
    "class RandomGenerator:\n",
    "    def __init__(self, sampling_weights):\n",
    "        self.population = list(range(1, len(sampling_weights) + 1))\n",
    "        self.sampling_weights = sampling_weights\n",
    "        self.candicates = []\n",
    "        self.i = 0\n",
    "    \n",
    "    def draw(self):\n",
    "        if self.i == len(self.candicates):\n",
    "            self.candicates = random.choices(self.population, self.sampling_weights, k=10000)\n",
    "            self.i = 0\n",
    "        self.i += 1\n",
    "        return self.candicates[self.i - 1]"
   ]
  },
  {
   "cell_type": "code",
   "execution_count": 47,
   "metadata": {},
   "outputs": [
    {
     "name": "stdout",
     "output_type": "stream",
     "text": [
      "[3, 1, 2, 3, 3, 1, 3, 1, 3, 2]\n"
     ]
    }
   ],
   "source": [
    "generator = RandomGenerator([2, 3, 4])\n",
    "print([generator.draw() for _ in range(10)])"
   ]
  },
  {
   "cell_type": "code",
   "execution_count": 48,
   "metadata": {},
   "outputs": [],
   "source": [
    "def get_negatives(all_contexts, vocab, counter, K):\n",
    "    # 幂0.75是为了降低高频词的权重，让低频词也有机会被负采样\n",
    "    sampling_weights = [counter[vocab.to_tokens(i)]**0.75 for i in range(1, len(vocab))]\n",
    "    all_negatives, generator = [], RandomGenerator(sampling_weights)\n",
    "    for contexts in all_contexts:\n",
    "        negtives = []\n",
    "        while len(negtives) < len(contexts) * K:\n",
    "            neg = generator.draw()\n",
    "            if neg not in contexts:\n",
    "                negtives.append(neg)\n",
    "        all_negatives.append(negtives)\n",
    "    \n",
    "    return all_negatives"
   ]
  },
  {
   "cell_type": "code",
   "execution_count": 49,
   "metadata": {},
   "outputs": [],
   "source": [
    "all_negtives = get_negatives(all_contexts, vocab, counter, 5)"
   ]
  },
  {
   "cell_type": "code",
   "execution_count": 50,
   "metadata": {},
   "outputs": [],
   "source": [
    "def batchify(data):\n",
    "    max_len = max(len(c) + len(n) for _, c, n in data)\n",
    "    centers, contexts_negatives, masks, labels = [], [], [], []\n",
    "    for center, context, negative in data:\n",
    "        cur_len = len(context) + len(negative)\n",
    "        centers.append(center)\n",
    "        contexts_negatives.append(context + negative + [0] * (max_len - cur_len))\n",
    "        masks.append([1] * cur_len + [0] * (max_len - cur_len))\n",
    "        labels.append([1] * len(context) + [0] * (max_len - len(context)))\n",
    "    \n",
    "    return (torch.tensor(centers).reshape((-1, 1)), torch.tensor(contexts_negatives), torch.tensor(masks), torch.tensor(labels))\n"
   ]
  },
  {
   "cell_type": "code",
   "execution_count": 51,
   "metadata": {},
   "outputs": [
    {
     "name": "stdout",
     "output_type": "stream",
     "text": [
      "center = tensor([[1],\n",
      "        [1]])\n",
      "contexts_negatives = tensor([[2, 2, 3, 3, 3, 3],\n",
      "        [2, 2, 2, 3, 3, 0]])\n",
      "masks = tensor([[1, 1, 1, 1, 1, 1],\n",
      "        [1, 1, 1, 1, 1, 0]])\n",
      "labels = tensor([[1, 1, 0, 0, 0, 0],\n",
      "        [1, 1, 1, 0, 0, 0]])\n"
     ]
    }
   ],
   "source": [
    "x_1 = (1, [2, 2], [3, 3, 3, 3])\n",
    "x_2 = (1, [2, 2, 2], [3, 3])\n",
    "batch = batchify((x_1, x_2))\n",
    "\n",
    "names = ['center', 'contexts_negatives', 'masks', 'labels']\n",
    "for name, data in zip(names, batch):\n",
    "    print(name, '=', data)"
   ]
  },
  {
   "cell_type": "code",
   "execution_count": 60,
   "metadata": {},
   "outputs": [],
   "source": [
    "def load_data_pth(batch_size, max_window_size, num_noise_words):\n",
    "    sentences = read_ptb()\n",
    "    vocab = myd2l.Vocab(sentences, min_freq=10)\n",
    "    subsampled, counter = subsample(sentences, vocab)\n",
    "    corpus = [vocab[line] for line in subsampled]\n",
    "    all_centers, all_contexts = get_centers_and_contexts(corpus, max_window_size)\n",
    "    all_negtives = get_negatives(all_contexts, vocab, counter, num_noise_words)\n",
    "\n",
    "    class PTBDataset(torch.utils.data.Dataset):\n",
    "        def __init__(self, centers, contexts, negatives):\n",
    "            assert len(centers) == len(contexts) == len(negatives)\n",
    "            \n",
    "            self.centers = centers\n",
    "            self.contexts = contexts\n",
    "            self.negatives = negatives\n",
    "        \n",
    "        def __getitem__(self, index):\n",
    "            return (self.centers[index], self.contexts[index], self.negatives[index])\n",
    "        \n",
    "        def __len__(self):\n",
    "            return len(self.centers)\n",
    "    \n",
    "    dataset = PTBDataset(all_centers, all_contexts, all_negtives)\n",
    "    # 在每次从 DataLoader 中取出数据时，collate_fn 函数会被调用\n",
    "    data_iter = torch.utils.data.DataLoader(\n",
    "        dataset, batch_size, shuffle=True, collate_fn=batchify\n",
    "    )\n",
    "\n",
    "    return data_iter, vocab"
   ]
  },
  {
   "cell_type": "code",
   "execution_count": 56,
   "metadata": {},
   "outputs": [],
   "source": [
    "data_iter, vocab = load_data_pth(512, 5, 5)"
   ]
  },
  {
   "cell_type": "code",
   "execution_count": null,
   "metadata": {},
   "outputs": [
    {
     "name": "stdout",
     "output_type": "stream",
     "text": [
      "center shape: torch.Size([512, 1])\n",
      "contexts_negatives shape: torch.Size([512, 60])\n",
      "masks shape: torch.Size([512, 60])\n",
      "labels shape: torch.Size([512, 60])\n",
      "350208 351224\n"
     ]
    }
   ],
   "source": [
    "for batch in data_iter:\n",
    "    for name, data in zip(names, batch):\n",
    "        print(name, 'shape:', data.shape)\n",
    "    break"
   ]
  },
  {
   "cell_type": "code",
   "execution_count": null,
   "metadata": {},
   "outputs": [],
   "source": []
  }
 ],
 "metadata": {
  "kernelspec": {
   "display_name": "pytorch",
   "language": "python",
   "name": "python3"
  },
  "language_info": {
   "codemirror_mode": {
    "name": "ipython",
    "version": 3
   },
   "file_extension": ".py",
   "mimetype": "text/x-python",
   "name": "python",
   "nbconvert_exporter": "python",
   "pygments_lexer": "ipython3",
   "version": "3.10.15"
  }
 },
 "nbformat": 4,
 "nbformat_minor": 2
}
