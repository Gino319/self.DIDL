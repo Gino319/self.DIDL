{
 "cells": [
  {
   "cell_type": "code",
   "execution_count": 1,
   "metadata": {},
   "outputs": [],
   "source": [
    "import torch\n",
    "import torch.nn as nn\n",
    "import sys\n",
    "sys.path.append('..')\n",
    "import myd2l"
   ]
  },
  {
   "cell_type": "code",
   "execution_count": 2,
   "metadata": {},
   "outputs": [],
   "source": [
    "def batch_norm(X, gamma, beta, moving_mean, moving_var, eps, momentum):\n",
    "    if not torch.is_grad_enabled(): # 判断模型是否是eval模式\n",
    "        X_hat = (X - moving_mean) / torch.sqrt(moving_var + eps)\n",
    "    else:\n",
    "        assert len(X.shape) in (2, 4)\n",
    "\n",
    "        if len(X.shape) == 2:\n",
    "            mean = X.mean(dim=0, keepdim=True)\n",
    "            var = ((X - mean) ** 2).mean(dim=0, keepdim=True)\n",
    "        else:\n",
    "            # 可以理解为先在整张图上取平均，再在批次维度取平均\n",
    "            mean = X.mean(dim=(0, 2, 3), keepdim=True) \n",
    "            var = ((X - mean) ** 2).mean(dim=(0, 2, 3), keepdim=True)\n",
    "\n",
    "        X_hat = (X - mean) / torch.sqrt(var + eps)\n",
    "        moving_mean = momentum * moving_mean + (1 - momentum) * mean\n",
    "        moving_var = momentum * moving_var + (1 - momentum) * var\n",
    "    \n",
    "    Y = gamma * X_hat + beta\n",
    "\n",
    "    return Y, moving_mean.data, moving_var.data"
   ]
  },
  {
   "cell_type": "code",
   "execution_count": 3,
   "metadata": {},
   "outputs": [],
   "source": [
    "class BatchNorm(nn.Module):\n",
    "    def __init__(self, n_features, n_dims):\n",
    "        super().__init__()\n",
    "\n",
    "        if n_dims == 2:\n",
    "            shape = (1, n_features)\n",
    "        else:\n",
    "            shape = (1, n_features, 1, 1)\n",
    "        \n",
    "        # 全用广播\n",
    "        self.gamma = nn.Parameter(torch.ones(shape))\n",
    "        self.beta = nn.Parameter(torch.zeros(shape))\n",
    "        self.moving_mean = torch.zeros(shape)\n",
    "        self.moving_var = torch.ones(shape)\n",
    "    \n",
    "    def forward(self, X):\n",
    "        if self.moving_mean.device != X.device:\n",
    "            self.moving_mean = self.moving_mean.to(X.device)\n",
    "            self.moving_var = self.moving_var.to(X.device)\n",
    "        \n",
    "        Y, self.moving_mean, self.moving_var = batch_norm(\n",
    "            X, self.gamma, self.beta, self.moving_mean, self.moving_var,\n",
    "            eps=1e-5, momentum=0.9)\n",
    "\n",
    "        return Y\n",
    "    "
   ]
  },
  {
   "cell_type": "code",
   "execution_count": 4,
   "metadata": {},
   "outputs": [
    {
     "name": "stdout",
     "output_type": "stream",
     "text": [
      "epoch  1, loss  0.7283, train acc  0.77, test acc  0.76\n",
      "epoch  2, loss  0.4607, train acc  0.80, test acc  0.79\n",
      "epoch  3, loss  0.4045, train acc  0.81, test acc  0.80\n",
      "epoch  4, loss  0.3647, train acc  0.87, test acc  0.86\n",
      "epoch  5, loss  0.3388, train acc  0.75, test acc  0.74\n",
      "epoch  6, loss  0.3208, train acc  0.85, test acc  0.83\n",
      "epoch  7, loss  0.3067, train acc  0.87, test acc  0.85\n",
      "epoch  8, loss  0.2927, train acc  0.88, test acc  0.86\n",
      "epoch  9, loss  0.2813, train acc  0.88, test acc  0.87\n",
      "epoch  10, loss  0.2687, train acc  0.90, test acc  0.89\n"
     ]
    },
    {
     "data": {
      "image/png": "[encoded data removed]",
      "text/plain": [
       "<Figure size 500x250 with 1 Axes>"
      ]
     },
     "metadata": {},
     "output_type": "display_data"
    },
    {
     "name": "stdout",
     "output_type": "stream",
     "text": [
      "loss  0.2687, train acc  0.90, test acc  0.89\n",
      " 6459630.8 examples/sec on cuda\n"
     ]
    }
   ],
   "source": [
    "# 带BN的LeNet\n",
    "\n",
    "net = nn.Sequential(\n",
    "    nn.Conv2d(1, 6, kernel_size=5), BatchNorm(6, n_dims=4), nn.Sigmoid(),\n",
    "    nn.AvgPool2d(kernel_size=2, stride=2),\n",
    "    nn.Conv2d(6, 16, kernel_size=5), BatchNorm(16, n_dims=4), nn.Sigmoid(),\n",
    "    nn.AvgPool2d(kernel_size=2, stride=2), nn.Flatten(),\n",
    "    nn.Linear(16 * 4 * 4, 120), BatchNorm(120, n_dims=2), nn.Sigmoid(),\n",
    "    nn.Linear(120, 84), BatchNorm(84, n_dims=2), nn.Sigmoid(),\n",
    "    nn.Linear(84, 10)\n",
    ")\n",
    "\n",
    "batch_size = 256\n",
    "train_iter, test_iter = myd2l.load_data_fashion_mnist(batch_size)\n",
    "\n",
    "lr, n_epochs = 1.0, 10\n",
    "device = torch.device('cuda')\n",
    "myd2l.train_clf(net, n_epochs, lr, train_iter, test_iter, device)"
   ]
  },
  {
   "cell_type": "code",
   "execution_count": 8,
   "metadata": {},
   "outputs": [
    {
     "data": {
      "text/plain": [
       "(Parameter containing:\n",
       " tensor([3.7558, 2.2834, 2.5187, 2.0655, 3.8281, 0.3262], device='cuda:0',\n",
       "        requires_grad=True),\n",
       " Parameter containing:\n",
       " tensor([-2.5840,  2.5590, -2.8997,  0.9313, -1.4107, -0.3219], device='cuda:0',\n",
       "        requires_grad=True))"
      ]
     },
     "execution_count": 8,
     "metadata": {},
     "output_type": "execute_result"
    }
   ],
   "source": [
    "net[1].weight, net[1].bias"
   ]
  },
  {
   "cell_type": "code",
   "execution_count": null,
   "metadata": {},
   "outputs": [],
   "source": []
  }
 ],
 "metadata": {
  "kernelspec": {
   "display_name": "pytorch",
   "language": "python",
   "name": "python3"
  },
  "language_info": {
   "codemirror_mode": {
    "name": "ipython",
    "version": 3
   },
   "file_extension": ".py",
   "mimetype": "text/x-python",
   "name": "python",
   "nbconvert_exporter": "python",
   "pygments_lexer": "ipython3",
   "version": "3.10.15"
  }
 },
 "nbformat": 4,
 "nbformat_minor": 2
}
