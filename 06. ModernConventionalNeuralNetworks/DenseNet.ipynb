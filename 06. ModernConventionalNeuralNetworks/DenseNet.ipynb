{
 "cells": [
  {
   "cell_type": "code",
   "execution_count": null,
   "metadata": {},
   "outputs": [],
   "source": [
    "import torch\n",
    "import torch.nn as nn \n",
    "import sys\n",
    "sys.path.append('..')\n",
    "import myd2l"
   ]
  },
  {
   "cell_type": "code",
   "execution_count": 2,
   "metadata": {},
   "outputs": [],
   "source": [
    "def conv_block(in_channels, n_channels):\n",
    "    return nn.Sequential(\n",
    "        nn.BatchNorm2d(in_channels), nn.ReLU(),\n",
    "        nn.Conv2d(in_channels, n_channels, kernel_size=3, padding=1)\n",
    "    )"
   ]
  },
  {
   "cell_type": "code",
   "execution_count": 3,
   "metadata": {},
   "outputs": [],
   "source": [
    "# 稠密块\n",
    "\n",
    "class DenseBlock(nn.Module):\n",
    "    def __init__(self, n_convs, in_channels, n_channels):\n",
    "        super().__init__()\n",
    "\n",
    "        layer = []\n",
    "        for i in range(n_convs):\n",
    "            layer.append(conv_block(n_channels * i + in_channels, n_channels))\n",
    "\n",
    "        self.net = nn.Sequential(*layer)\n",
    "\n",
    "    def forward(self, X):\n",
    "        for blk in self.net:\n",
    "            Y = blk(X)\n",
    "            X = torch.cat((X, Y), dim=1)\n",
    "\n",
    "        return X "
   ]
  },
  {
   "cell_type": "code",
   "execution_count": 4,
   "metadata": {},
   "outputs": [
    {
     "name": "stdout",
     "output_type": "stream",
     "text": [
      "torch.Size([4, 23, 8, 8])\n"
     ]
    }
   ],
   "source": [
    "blk = DenseBlock(2, 3, 10)\n",
    "X = torch.randn((4, 3, 8, 8))\n",
    "Y = blk(X)\n",
    "print(Y.shape)"
   ]
  },
  {
   "cell_type": "code",
   "execution_count": 5,
   "metadata": {},
   "outputs": [],
   "source": [
    "# 过渡层\n",
    "\n",
    "def transition_block(in_channels, n_channels):\n",
    "    return nn.Sequential(\n",
    "        nn.BatchNorm2d(in_channels), nn.ReLU(),\n",
    "        nn.Conv2d(in_channels, n_channels, kernel_size=1),\n",
    "        nn.AvgPool2d(kernel_size=2, stride=2)\n",
    "    )"
   ]
  },
  {
   "cell_type": "code",
   "execution_count": 6,
   "metadata": {},
   "outputs": [
    {
     "name": "stdout",
     "output_type": "stream",
     "text": [
      "torch.Size([4, 10, 4, 4])\n"
     ]
    }
   ],
   "source": [
    "blk = transition_block(23, 10)\n",
    "print(blk(Y).shape)"
   ]
  },
  {
   "cell_type": "code",
   "execution_count": 8,
   "metadata": {},
   "outputs": [],
   "source": [
    "b1 = nn.Sequential(\n",
    "    nn.Conv2d(1, 64, kernel_size=7, stride=2, padding=3),\n",
    "    nn.BatchNorm2d(64), nn.ReLU(),\n",
    "    nn.MaxPool2d(kernel_size=3, stride=2, padding=1)\n",
    ")\n",
    "\n",
    "n_channels, growth_rate = 64, 32\n",
    "n_convs_in_dense_blocks = [4, 4, 4, 4]\n",
    "blks = []\n",
    "\n",
    "for i, n_convs in enumerate(n_convs_in_dense_blocks):\n",
    "    blks.append(DenseBlock(n_convs, n_channels, growth_rate))\n",
    "    n_channels += n_convs * growth_rate\n",
    "\n",
    "    if i != len(n_convs_in_dense_blocks) - 1:\n",
    "        blks.append(transition_block(n_channels, n_channels // 2))\n",
    "        n_channels = n_channels // 2\n",
    "\n",
    "net = nn.Sequential(\n",
    "    b1, *blks,\n",
    "    nn.BatchNorm2d(n_channels), nn.ReLU(),\n",
    "    nn.AdaptiveAvgPool2d((1, 1)),\n",
    "    nn.Flatten(),\n",
    "    nn.Linear(n_channels, 10)\n",
    ")"
   ]
  },
  {
   "cell_type": "code",
   "execution_count": null,
   "metadata": {},
   "outputs": [],
   "source": [
    "batch_size, resize = 256, 96\n",
    "train_iter, test_iter = myd2l.load_data_fashion_mnist(batch_size, resize)\n",
    "\n",
    "n_epochs, lr = 10, 0.1\n",
    "device = torch.device('cuda')\n",
    "myd2l.train_clf(net, n_epochs, lr, train_iter, test_iter, device)"
   ]
  }
 ],
 "metadata": {
  "kernelspec": {
   "display_name": "pytorch",
   "language": "python",
   "name": "python3"
  },
  "language_info": {
   "codemirror_mode": {
    "name": "ipython",
    "version": 3
   },
   "file_extension": ".py",
   "mimetype": "text/x-python",
   "name": "python",
   "nbconvert_exporter": "python",
   "pygments_lexer": "ipython3",
   "version": "3.10.15"
  }
 },
 "nbformat": 4,
 "nbformat_minor": 2
}
