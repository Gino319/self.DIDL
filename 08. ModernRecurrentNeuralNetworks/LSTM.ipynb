{
 "cells": [
  {
   "cell_type": "code",
   "execution_count": null,
   "metadata": {},
   "outputs": [],
   "source": [
    "import torch\n",
    "import torch.nn as nn\n",
    "import torch.nn.functional as F\n",
    "import sys\n",
    "sys.path.append('..')\n",
    "import myd2l"
   ]
  },
  {
   "cell_type": "code",
   "execution_count": 2,
   "metadata": {},
   "outputs": [],
   "source": [
    "class LSTMNet(nn.Module):\n",
    "    def __init__(self, vocab_size, num_hiddens, num_layers=1):\n",
    "        super().__init__()\n",
    "        self.num_layers = num_layers\n",
    "        self.num_directions = 1\n",
    "        self.vocab_size = vocab_size\n",
    "        self.num_hiddens = num_hiddens\n",
    "        self.lstm = nn.LSTM(vocab_size, num_hiddens)\n",
    "        self.fc = nn.Linear(num_hiddens, vocab_size)\n",
    "    \n",
    "    def forward(self, X, state):\n",
    "        X = F.one_hot(X.T.long(), self.vocab_size)\n",
    "        X = X.to(torch.float32)\n",
    "        Y, state = self.lstm(X, state)\n",
    "        Y = self.fc(Y).reshape(-1, self.vocab_size)\n",
    "        \n",
    "        return Y, state\n",
    "    \n",
    "    def begin_state(self, batch_size, device):\n",
    "        return (\n",
    "            torch.zeros((self.num_layers * self.num_directions, batch_size, self.num_hiddens), dtype=torch.float32, device=device), \n",
    "            torch.zeros((self.num_layers * self.num_directions, batch_size, self.num_hiddens), dtype=torch.float32, device=device))"
   ]
  },
  {
   "cell_type": "code",
   "execution_count": null,
   "metadata": {},
   "outputs": [
    {
     "name": "stdout",
     "output_type": "stream",
     "text": [
      "epoch 10, perplexity 17.2\n",
      "time traveller                                                  \n",
      "epoch 20, perplexity 16.3\n",
      "time traveller  t t t t t t t t t t t t t t t t t t t t t t t t \n",
      "epoch 30, perplexity 14.0\n",
      "time traveller the the the the the the the the the the the the t\n",
      "epoch 40, perplexity 12.1\n",
      "time traveller the the the the the the the the the the the the t\n",
      "epoch 50, perplexity 11.1\n",
      "time travellere the the the the the the the the the the the the \n",
      "epoch 60, perplexity 10.5\n",
      "time travellere the the the the the the the the the the the the \n",
      "epoch 70, perplexity 9.9\n",
      "time traveller an the the the the the the the the the the the th\n",
      "epoch 80, perplexity 9.5\n",
      "time travellerererererererererererererererererererererererererer\n",
      "epoch 90, perplexity 9.1\n",
      "time traveller the the the the the the the the the the the the t\n",
      "epoch 100, perplexity 8.6\n",
      "time traveller the the the the the the the the the the the the t\n",
      "epoch 110, perplexity 8.2\n",
      "time travellereation the the the the the the the the the the the\n",
      "epoch 120, perplexity 7.8\n",
      "time traveller the the the the the the the the the the the the t\n",
      "epoch 130, perplexity 7.5\n",
      "time traveller the the the the the the the the the the the the t\n",
      "epoch 140, perplexity 7.1\n",
      "time traveller and the the the the the the the the the the the t\n",
      "epoch 150, perplexity 6.9\n",
      "time traveller and the the the the the the the the the the the t\n",
      "epoch 160, perplexity 6.4\n",
      "time traveller the the the the the the the the the the the the t\n",
      "epoch 170, perplexity 6.3\n",
      "time traveller the time traveller the time traveller the time tr\n",
      "epoch 180, perplexity 5.7\n",
      "time traveller the thing the this there it is is all and the tim\n",
      "epoch 190, perplexity 5.3\n",
      "time traveller the fime time sion a mout the four has a mour a d\n",
      "epoch 200, perplexity 4.8\n",
      "time traveller the fore thansions of the time sraceller the four\n",
      "epoch 210, perplexity 4.4\n",
      "time travelleround and this the this that we have this said the \n",
      "epoch 220, perplexity 3.9\n",
      "time traveller the freer three dimensions the trouldin thingsthe\n",
      "epoch 230, perplexity 3.6\n",
      "time traveller the fimert in there it i will the time traveller \n",
      "epoch 240, perplexity 3.1\n",
      "time traveller the fimention simats seed aby so kenter thinkssou\n",
      "epoch 250, perplexity 2.7\n",
      "time traveller the dimention thet saco gery mest and whid the ma\n",
      "epoch 260, perplexity 2.4\n",
      "time traveller free inden and freal thing so meght y sed athermo\n",
      "epoch 270, perplexity 2.1\n",
      "time traveller wely thing the time traveller the dime traveller \n",
      "epoch 280, perplexity 1.8\n",
      "time traveller three dimensions and there are really rocked and \n",
      "epoch 290, perplexity 1.7\n",
      "time traveller fore in his baine who that aremmmentofiththit sea\n",
      "epoch 300, perplexity 1.5\n",
      "time travellerim four dimensions of space generally recogning th\n",
      "epoch 310, perplexity 1.3\n",
      "time traveller fore in his blavely only a fourth dimension of ha\n",
      "epoch 320, perplexity 1.3\n",
      "time traveller for so it will be convenient to speak of himwarde\n",
      "epoch 330, perplexity 1.2\n",
      "time traveller frceeded so that bat sald have a the wernthting h\n",
      "epoch 340, perplexity 1.3\n",
      "time traveller for so it will be convenient to speak of himwas e\n",
      "epoch 350, perplexity 1.2\n",
      "time traveller for so it will be convenient to speak of himwas e\n",
      "epoch 360, perplexity 1.1\n",
      "time traveller for so it will be convenient to speak of himwas e\n",
      "epoch 370, perplexity 1.1\n",
      "time traveller for so it will be convenient to speak of himwas e\n",
      "epoch 380, perplexity 1.1\n",
      "time traveller fired dha time yravellerit woult be manthe shiol \n",
      "epoch 390, perplexity 1.1\n",
      "time traveller for so it will be convenient to speak of himwas e\n",
      "epoch 400, perplexity 1.1\n",
      "time traveller for so it will be convenient to speak of himwas e\n",
      "epoch 410, perplexity 1.1\n",
      "time traveller his some therove one oust of the foordincedont a \n",
      "epoch 420, perplexity 1.1\n",
      "time traveller for so it will be convenient to speak of himwas e\n",
      "epoch 430, perplexity 1.1\n",
      "time traveller for so it will be convenient to speak of himwas e\n",
      "epoch 440, perplexity 1.1\n",
      "time traveller for so it will be convenient to speak of himwas e\n",
      "epoch 450, perplexity 1.1\n",
      "time travelleryou can show black is white by argument said filby\n",
      "epoch 460, perplexity 1.1\n",
      "time traveller file sode was plegha it that is hasengt wey lat t\n",
      "epoch 470, perplexity 1.2\n",
      "time traveller proceeded anyreal body must have extension and wh\n",
      "epoch 480, perplexity 1.1\n",
      "time traveller for so it will be convenient to speak of himwas e\n",
      "epoch 490, perplexity 1.0\n",
      "time traveller for so it will be convenient to speak of himwas e\n",
      "epoch 500, perplexity 1.1\n",
      "time traveller for so it will be convenient to speak of himwas e\n"
     ]
    },
    {
     "data": {
      "image/png": "[encoded data removed]",
      "text/plain": [
       "<Figure size 500x250 with 1 Axes>"
      ]
     },
     "metadata": {},
     "output_type": "display_data"
    },
    {
     "name": "stdout",
     "output_type": "stream",
     "text": [
      "perplexity 1.1, 276109.3 examples/sec on cuda\n",
      "time traveller for so it will be convenient to speak of himwas e\n",
      "traveller with a slight accession ofcheerfulness really thi\n"
     ]
    }
   ],
   "source": [
    "batch_size, num_steps = 32, 35\n",
    "train_iter, vocab = myd2l.load_data_time_machine(batch_size, num_steps)\n",
    "\n",
    "num_hidden = 256\n",
    "net = LSTMNet(len(vocab), 256)\n",
    "\n",
    "num_epochs, lr = 500, 1\n",
    "device = torch.device('cuda')\n",
    "myd2l.train_lm(net, train_iter, vocab, lr, num_epochs, device)"
   ]
  },
  {
   "cell_type": "code",
   "execution_count": null,
   "metadata": {},
   "outputs": [],
   "source": []
  }
 ],
 "metadata": {
  "kernelspec": {
   "display_name": "pytorch",
   "language": "python",
   "name": "python3"
  },
  "language_info": {
   "codemirror_mode": {
    "name": "ipython",
    "version": 3
   },
   "file_extension": ".py",
   "mimetype": "text/x-python",
   "name": "python",
   "nbconvert_exporter": "python",
   "pygments_lexer": "ipython3",
   "version": "3.10.15"
  }
 },
 "nbformat": 4,
 "nbformat_minor": 2
}
