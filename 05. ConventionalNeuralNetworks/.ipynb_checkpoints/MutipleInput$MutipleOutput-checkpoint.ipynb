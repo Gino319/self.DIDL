{
 "cells": [
  {
   "cell_type": "code",
   "execution_count": 2,
   "id": "1b4d83af",
   "metadata": {},
   "outputs": [],
   "source": [
    "import torch\n",
    "import torch.nn as nn\n",
    "\n",
    "def corr2d(X, K):\n",
    "    h, w = K.shape\n",
    "    Y = torch.zeros(X.shape[0] - h + 1, X.shape[1] - w + 1)\n",
    "    \n",
    "    for i in range(Y.shape[0]):\n",
    "        for j in range(Y.shape[1]):\n",
    "            Y[i, j] = (X[i:i + h, j:j + w] * K).sum()\n",
    "    \n",
    "    return Y"
   ]
  },
  {
   "cell_type": "code",
   "execution_count": 23,
   "id": "5d3d4f8d",
   "metadata": {},
   "outputs": [
    {
     "name": "stdout",
     "output_type": "stream",
     "text": [
      "tensor([[ 56.,  72.],\n",
      "        [104., 120.]])\n"
     ]
    }
   ],
   "source": [
    "def corr2d_multi_in(X, K):\n",
    "    return sum(corr2d(x, k) for x, k in zip(X, K))\n",
    "\n",
    "X = torch.tensor([[[0.0, 1.0, 2.0], [3.0, 4.0, 5.0], [6.0, 7.0, 8.0]], \n",
    "                  [[1.0, 2.0, 3.0], [4.0, 5.0, 6.0], [7.0, 8.0, 9.0]]])\n",
    "K = torch.tensor([[[0.0, 1.0], [2.0, 3.0]], \n",
    "                  [[1.0, 2.0], [3.0, 4.0]]])\n",
    "\n",
    "print(corr2d_multi_in(X, K))"
   ]
  },
  {
   "cell_type": "code",
   "execution_count": 24,
   "id": "102db300",
   "metadata": {},
   "outputs": [
    {
     "name": "stdout",
     "output_type": "stream",
     "text": [
      "torch.Size([3, 2, 2, 2])\n",
      "tensor([[[ 56.,  72.],\n",
      "         [104., 120.]],\n",
      "\n",
      "        [[ 76., 100.],\n",
      "         [148., 172.]],\n",
      "\n",
      "        [[ 96., 128.],\n",
      "         [192., 224.]]])\n"
     ]
    }
   ],
   "source": [
    "def corr2d_multi_in_out(X, K):\n",
    "    return torch.stack(tuple(corr2d_multi_in(X, k) for k in K), dim=0)\n",
    "\n",
    "K = torch.stack((K, K + 1, K + 2), dim=0)\n",
    "print(K.shape)\n",
    "\n",
    "print(corr2d_multi_in_out(X, K))"
   ]
  },
  {
   "cell_type": "code",
   "execution_count": 26,
   "id": "cc1d2bc1",
   "metadata": {},
   "outputs": [
    {
     "name": "stdout",
     "output_type": "stream",
     "text": [
      "torch.Size([2, 3, 3]) torch.Size([2, 3, 3])\n"
     ]
    }
   ],
   "source": [
    "def corr2d_multi_in_out_1x1(X, K):\n",
    "    c_i, h, w = X.shape\n",
    "    c_o = K.shape[0]\n",
    "    X = X.reshape((c_i, h * w))\n",
    "    K = K.reshape((c_o, c_i))\n",
    "    Y = torch.matmul(K, X)\n",
    "    \n",
    "    return Y.reshape((c_o, h, w))\n",
    "\n",
    "X = torch.normal(0, 1, (3, 3, 3))\n",
    "K = torch.normal(0, 1, (2, 3, 1, 1))\n",
    "\n",
    "Y1 = corr2d_multi_in_out_1x1(X, K) \n",
    "Y2 = corr2d_multi_in_out(X, K) \n",
    "assert float(torch.abs(Y1 - Y2).sum()) < 1e-6\n",
    "\n",
    "print(Y1.shape, Y2.shape)"
   ]
  },
  {
   "cell_type": "code",
   "execution_count": 27,
   "id": "706edb67",
   "metadata": {},
   "outputs": [
    {
     "name": "stdout",
     "output_type": "stream",
     "text": [
      "Input tensor:\n",
      "tensor([[[[ 1.,  2.,  3.,  4.],\n",
      "          [ 5.,  6.,  7.,  8.],\n",
      "          [ 9., 10., 11., 12.],\n",
      "          [13., 14., 15., 16.]]]])\n",
      "Unfolded tensor:\n",
      "tensor([[[ 1.,  2.,  5.,  6.],\n",
      "         [ 2.,  3.,  6.,  7.],\n",
      "         [ 3.,  4.,  7.,  8.],\n",
      "         [ 5.,  6.,  9., 10.],\n",
      "         [ 6.,  7., 10., 11.],\n",
      "         [ 7.,  8., 11., 12.],\n",
      "         [ 9., 10., 13., 14.],\n",
      "         [10., 11., 14., 15.],\n",
      "         [11., 12., 15., 16.]]])\n"
     ]
    }
   ],
   "source": [
    "# unfold可用于将卷积运算转换为矩阵运算以加快计算速度\n",
    "\n",
    "import torch\n",
    "import torch.nn.functional as F\n",
    "\n",
    "# 1 个 batch，1 个通道，4x4 输入\n",
    "input = torch.arange(1., 17).view(1, 1, 4, 4)\n",
    "print(\"Input tensor:\")\n",
    "print(input)\n",
    "\n",
    "# 使用 3x3 的卷积核展开\n",
    "output = F.unfold(input, kernel_size=(3, 3))\n",
    "print(\"Unfolded tensor:\")\n",
    "print(output)\n"
   ]
  },
  {
   "cell_type": "code",
   "execution_count": null,
   "id": "178cfbe8",
   "metadata": {},
   "outputs": [],
   "source": []
  }
 ],
 "metadata": {
  "kernelspec": {
   "display_name": "pytorch",
   "language": "python",
   "name": "pytorch"
  },
  "language_info": {
   "codemirror_mode": {
    "name": "ipython",
    "version": 3
   },
   "file_extension": ".py",
   "mimetype": "text/x-python",
   "name": "python",
   "nbconvert_exporter": "python",
   "pygments_lexer": "ipython3",
   "version": "3.10.15"
  }
 },
 "nbformat": 4,
 "nbformat_minor": 5
}
