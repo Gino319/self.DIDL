{
 "cells": [
  {
   "cell_type": "code",
   "execution_count": 2,
   "id": "ba5c5085",
   "metadata": {},
   "outputs": [],
   "source": [
    "import torch\n",
    "import torch.nn as nn\n",
    "import torch.nn.functional as F\n",
    "import torch.utils.data as Data\n",
    "import torchvision\n",
    "import torchvision.transforms as transforms\n",
    "import torchvision.datasets as Datasets\n",
    "import time\n",
    "import matplotlib.pyplot as plt"
   ]
  },
  {
   "cell_type": "code",
   "execution_count": 4,
   "id": "8c8628cf",
   "metadata": {},
   "outputs": [],
   "source": [
    "# 读取数据\n",
    "\n",
    "mnist_train = Datasets.FashionMNIST(root='E:/Datasets/FashionMNIST', train=True, download=False, transform=transforms.ToTensor())\n",
    "mnist_test = Datasets.FashionMNIST(root='E:/Datasets/FashionMNIST', train=False, download=False, transform=transforms.ToTensor())\n",
    "\n",
    "batch_size = 256\n",
    "train_iter = Data.DataLoader(mnist_train, batch_size=batch_size, shuffle=True)\n",
    "test_iter = Data.DataLoader(mnist_test, batch_size=batch_size, shuffle=True)"
   ]
  },
  {
   "cell_type": "code",
   "execution_count": 2,
   "id": "bd0ae6b7",
   "metadata": {},
   "outputs": [],
   "source": [
    "# 定义模型\n",
    "\n",
    "# 模型将平均池化改成最大池化，sigmoid改成relu\n",
    "class LeNet(nn.Module):\n",
    "    def __init__(self):\n",
    "        super().__init__()\n",
    "        self.c1 = nn.Conv2d(1, 6, kernel_size=5, padding=2)\n",
    "        self.p1 = nn.MaxPool2d(kernel_size=2, stride=2)\n",
    "        self.c2 = nn.Conv2d(6, 16, kernel_size=5)\n",
    "        self.p2 = nn.MaxPool2d(kernel_size=2, stride=2)\n",
    "        self.fla = nn.Flatten()\n",
    "        self.l1 = nn.Linear(5 * 5 * 16, 120)\n",
    "        self.l2 = nn.Linear(120, 84)\n",
    "        self.l3 = nn.Linear(84, 10)\n",
    "        \n",
    "        self.apply(self._init_params)\n",
    "        \n",
    "    def _init_params(self, m):\n",
    "        if isinstance(m, nn.Linear) or isinstance(m, nn.Conv2d):\n",
    "            nn.init.xavier_uniform_(m.weight)\n",
    "            \n",
    "    def forward(self, X):\n",
    "        X = self.c1(X)\n",
    "        X = F.sigmoid(X)\n",
    "        X = self.p1(X)\n",
    "        X = self.c2(X)\n",
    "        X = F.sigmoid(X)\n",
    "        X = self.p2(X)\n",
    "        X = self.fla(X)\n",
    "        X = self.l1(X)\n",
    "        X = F.relu(X)\n",
    "        X = self.l2(X)\n",
    "        X = F.relu(X)\n",
    "        X = self.l3(X)\n",
    "        \n",
    "        return X"
   ]
  },
  {
   "cell_type": "code",
   "execution_count": 14,
   "id": "b7a3825d",
   "metadata": {},
   "outputs": [],
   "source": [
    "# 定义评估准确率函数\n",
    "\n",
    "def evaluate_accuracy(data_iter, net, device=None):\n",
    "    net.eval()\n",
    "    if not device:\n",
    "        device = net.device\n",
    "    \n",
    "    sum_acc = 0.0\n",
    "    with torch.no_grad():\n",
    "        for X, y in data_iter:\n",
    "            X, y = X.to(device), y.to(device)\n",
    "            sum_acc += (net(X).argmax(dim=1) == y).float().mean().item()\n",
    "    \n",
    "    return sum_acc / len(data_iter)"
   ]
  },
  {
   "cell_type": "code",
   "execution_count": 15,
   "id": "c77fd15c",
   "metadata": {},
   "outputs": [],
   "source": [
    "def my_plot(n_epochs, losses, train_accs, test_accs):\n",
    "    fig, ax = plt.subplots(figsize=(5, 2.5))\n",
    "    ax.set_xlabel('epoch')\n",
    "    ax.grid(True)\n",
    "    ax.plot(range(1, n_epochs + 1), losses, label='loss', c='b')\n",
    "    ax.plot(range(1, n_epochs + 1), train_accs, label='train acc', c='g', linestyle='--')\n",
    "    ax.plot(range(1, n_epochs + 1), test_accs, label='test acc', c='purple', linestyle='-.')\n",
    "    \n",
    "    plt.legend()\n",
    "    plt.show()"
   ]
  },
  {
   "cell_type": "code",
   "execution_count": 16,
   "id": "8dbd1f2d",
   "metadata": {},
   "outputs": [],
   "source": [
    "# 定义训练函数\n",
    "\n",
    "def train(n_epochs, lr, device=None):\n",
    "    if not device:\n",
    "        device = net.device\n",
    "    \n",
    "    net = LeNet().to(device)\n",
    "    optimizer = torch.optim.SGD(net.parameters(), lr=lr)\n",
    "    loss = nn.CrossEntropyLoss()\n",
    "    \n",
    "    time_sum = 0.0\n",
    "    losses, train_accs, test_accs =[], [], []\n",
    "    for epoch in range(n_epochs):\n",
    "        net.train()\n",
    "        loss_sum = 0.0\n",
    "        for X, y in train_iter:\n",
    "            start = time.time()\n",
    "            optimizer.zero_grad()\n",
    "            X, y = X.to(device), y.to(device)\n",
    "            y_hat = net(X)\n",
    "            l = loss(y_hat, y)\n",
    "            l.backward()\n",
    "            optimizer.step()\n",
    "            \n",
    "            time_sum += time.time() - start\n",
    "            loss_sum += l.item()\n",
    "        \n",
    "        train_acc = evaluate_accuracy(train_iter, net, device)\n",
    "        test_acc = evaluate_accuracy(test_iter, net, device)\n",
    "        losses.append(loss_sum / len(train_iter))\n",
    "        train_accs.append(train_acc)\n",
    "        test_accs.append(test_acc)\n",
    "    \n",
    "        print(f'epoch {epoch + 1: 2d}, loss {loss_sum / len(train_iter): .5f}, train acc {train_acc: .3f}, test acc {test_acc: .3f}')\n",
    "        \n",
    "    my_plot(n_epochs, losses, train_accs, test_accs)\n",
    "    \n",
    "    print(f'loss {losses[-1]: 5f}, train acc {train_accs[-1]: .3f}, test acc {test_accs[-1]: .3f}')\n",
    "    print(f'{n_epochs * len(train_iter) * train_iter.batch_size / time_sum: .1f} examples/sec on {str(device)}')\n",
    "    "
   ]
  },
  {
   "cell_type": "code",
   "execution_count": 17,
   "id": "0b685b53",
   "metadata": {},
   "outputs": [
    {
     "name": "stdout",
     "output_type": "stream",
     "text": [
      "epoch  1, loss  1.97505, train acc  0.595, test acc  0.596\n",
      "epoch  2, loss  0.80753, train acc  0.736, test acc  0.726\n",
      "epoch  3, loss  0.58341, train acc  0.800, test acc  0.797\n",
      "epoch  4, loss  0.47415, train acc  0.824, test acc  0.817\n",
      "epoch  5, loss  0.42616, train acc  0.840, test acc  0.830\n",
      "epoch  6, loss  0.39404, train acc  0.849, test acc  0.840\n",
      "epoch  7, loss  0.37275, train acc  0.856, test acc  0.845\n",
      "epoch  8, loss  0.35611, train acc  0.862, test acc  0.849\n",
      "epoch  9, loss  0.34248, train acc  0.860, test acc  0.846\n",
      "epoch  10, loss  0.33075, train acc  0.864, test acc  0.852\n"
     ]
    },
    {
     "data": {
      "image/png": "[encoded data removed]",
      "text/plain": [
       "<Figure size 500x250 with 1 Axes>"
      ]
     },
     "metadata": {},
     "output_type": "display_data"
    },
    {
     "name": "stdout",
     "output_type": "stream",
     "text": [
      "loss  0.330753, train acc  0.864, test acc  0.852\n",
      " 73690.6 examples/sec on cuda\n"
     ]
    }
   ],
   "source": [
    "\n",
    "train(10, 0.9, torch.device('cuda') if torch.cuda.is_available() else torch.device('cpu'))"
   ]
  }
 ],
 "metadata": {
  "kernelspec": {
   "display_name": "pytorch",
   "language": "python",
   "name": "python3"
  },
  "language_info": {
   "codemirror_mode": {
    "name": "ipython",
    "version": 3
   },
   "file_extension": ".py",
   "mimetype": "text/x-python",
   "name": "python",
   "nbconvert_exporter": "python",
   "pygments_lexer": "ipython3",
   "version": "3.10.15"
  }
 },
 "nbformat": 4,
 "nbformat_minor": 5
}
