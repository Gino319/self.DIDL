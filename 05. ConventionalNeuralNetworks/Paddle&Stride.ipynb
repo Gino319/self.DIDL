{
 "cells": [
  {
   "cell_type": "code",
   "execution_count": 9,
   "id": "cf6135fa",
   "metadata": {},
   "outputs": [],
   "source": [
    "import torch\n",
    "import torch.nn as nn\n",
    "\n",
    "def comp_conv2d(X):\n",
    "    X = X.reshape((1, 1) + X.shape)\n",
    "    Y = conv2d(X)\n",
    "    \n",
    "    return Y.reshape(Y.shape[2:])"
   ]
  },
  {
   "cell_type": "code",
   "execution_count": 10,
   "id": "c84b4a24",
   "metadata": {},
   "outputs": [
    {
     "name": "stdout",
     "output_type": "stream",
     "text": [
      "torch.Size([8, 8])\n"
     ]
    }
   ],
   "source": [
    "conv2d = nn.Conv2d(1, 1, kernel_size=3, padding=1)\n",
    "\n",
    "X = torch.rand((8, 8))\n",
    "print(comp_conv2d(X).shape)"
   ]
  },
  {
   "cell_type": "code",
   "execution_count": 11,
   "id": "0481415b",
   "metadata": {},
   "outputs": [
    {
     "name": "stdout",
     "output_type": "stream",
     "text": [
      "torch.Size([8, 8])\n"
     ]
    }
   ],
   "source": [
    "conv2d = nn.Conv2d(1, 1, kernel_size=(5, 3), padding=(2, 1))\n",
    "\n",
    "X = torch.rand((8, 8))\n",
    "print(comp_conv2d(X).shape)"
   ]
  },
  {
   "cell_type": "code",
   "execution_count": 15,
   "id": "65dfa97f",
   "metadata": {},
   "outputs": [
    {
     "name": "stdout",
     "output_type": "stream",
     "text": [
      "torch.Size([4, 4])\n"
     ]
    }
   ],
   "source": [
    "conv2d = nn.Conv2d(1, 1, kernel_size=3, padding=1, stride=2)\n",
    "\n",
    "X = torch.rand((8, 8))\n",
    "print(comp_conv2d(X).shape)"
   ]
  },
  {
   "cell_type": "code",
   "execution_count": 16,
   "id": "99e89c83",
   "metadata": {},
   "outputs": [
    {
     "name": "stdout",
     "output_type": "stream",
     "text": [
      "torch.Size([2, 2])\n"
     ]
    }
   ],
   "source": [
    "conv2d = nn.Conv2d(1, 1, kernel_size=(3, 5), padding=(0, 1), stride=(3, 4))\n",
    "\n",
    "X = torch.rand((8, 8))\n",
    "print(comp_conv2d(X).shape)"
   ]
  },
  {
   "cell_type": "code",
   "execution_count": null,
   "id": "c65975db",
   "metadata": {},
   "outputs": [],
   "source": []
  }
 ],
 "metadata": {
  "kernelspec": {
   "display_name": "pytorch",
   "language": "python",
   "name": "pytorch"
  },
  "language_info": {
   "codemirror_mode": {
    "name": "ipython",
    "version": 3
   },
   "file_extension": ".py",
   "mimetype": "text/x-python",
   "name": "python",
   "nbconvert_exporter": "python",
   "pygments_lexer": "ipython3",
   "version": "3.10.15"
  }
 },
 "nbformat": 4,
 "nbformat_minor": 5
}
