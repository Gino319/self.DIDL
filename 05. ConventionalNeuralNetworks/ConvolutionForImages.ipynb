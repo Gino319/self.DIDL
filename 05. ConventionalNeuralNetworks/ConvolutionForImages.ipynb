{
 "cells": [
  {
   "cell_type": "code",
   "execution_count": 1,
   "id": "1286bc5d",
   "metadata": {},
   "outputs": [],
   "source": [
    "import torch\n",
    "import torch.nn as nn"
   ]
  },
  {
   "cell_type": "code",
   "execution_count": 8,
   "id": "f95a9b06",
   "metadata": {},
   "outputs": [],
   "source": [
    "# 实现卷积\n",
    "\n",
    "def corr2d(X, K):\n",
    "    h, w = K.shape\n",
    "    Y = torch.zeros(X.shape[0] - h + 1, X.shape[1] - w + 1)\n",
    "    \n",
    "    for i in range(Y.shape[0]):\n",
    "        for j in range(Y.shape[1]):\n",
    "            Y[i, j] = (X[i:i + h, j:j + w] * K).sum()\n",
    "    \n",
    "    return Y"
   ]
  },
  {
   "cell_type": "code",
   "execution_count": 9,
   "id": "963cd24f",
   "metadata": {},
   "outputs": [],
   "source": [
    "# 实现卷积层\n",
    "\n",
    "class Conv2D(nn.Module):\n",
    "    def __init__(self, kernel_size):\n",
    "        super().__init__()\n",
    "        self.weight = nn.Parameter(torch.rand(kernel_size)) # rand是均匀分布，randn是高斯分布\n",
    "        self.bias = nn.Parameter(torch.zeros(1)) # 广播\n",
    "    \n",
    "    def forward(self, X):\n",
    "        return corr2d(X, self.weight) + self.bias"
   ]
  },
  {
   "cell_type": "code",
   "execution_count": 10,
   "id": "57a00fb0",
   "metadata": {},
   "outputs": [
    {
     "name": "stdout",
     "output_type": "stream",
     "text": [
      "tensor([[1., 1., 0., 0., 0., 0., 1., 1.],\n",
      "        [1., 1., 0., 0., 0., 0., 1., 1.],\n",
      "        [1., 1., 0., 0., 0., 0., 1., 1.],\n",
      "        [1., 1., 0., 0., 0., 0., 1., 1.],\n",
      "        [1., 1., 0., 0., 0., 0., 1., 1.],\n",
      "        [1., 1., 0., 0., 0., 0., 1., 1.]])\n",
      "tensor([[ 0.,  1.,  0.,  0.,  0., -1.,  0.],\n",
      "        [ 0.,  1.,  0.,  0.,  0., -1.,  0.],\n",
      "        [ 0.,  1.,  0.,  0.,  0., -1.,  0.],\n",
      "        [ 0.,  1.,  0.,  0.,  0., -1.,  0.],\n",
      "        [ 0.,  1.,  0.,  0.,  0., -1.,  0.],\n",
      "        [ 0.,  1.,  0.,  0.,  0., -1.,  0.]])\n",
      "tensor([[0., 0., 0., 0., 0.],\n",
      "        [0., 0., 0., 0., 0.],\n",
      "        [0., 0., 0., 0., 0.],\n",
      "        [0., 0., 0., 0., 0.],\n",
      "        [0., 0., 0., 0., 0.],\n",
      "        [0., 0., 0., 0., 0.],\n",
      "        [0., 0., 0., 0., 0.],\n",
      "        [0., 0., 0., 0., 0.]])\n"
     ]
    }
   ],
   "source": [
    "# 手动设置卷积核进行边缘检测\n",
    "\n",
    "X = torch.ones((6, 8))\n",
    "X[:, 2:6] = 0\n",
    "print(X)\n",
    "\n",
    "K = torch.tensor([[1.0, -1.0]])\n",
    "Y = corr2d(X, K) # 水平上，1为1->0的边缘，-1为0->1的边缘\n",
    "print(Y)\n",
    "\n",
    "Y_t = corr2d(X.t(), K) # 垂直上\n",
    "print(Y_t)"
   ]
  },
  {
   "cell_type": "code",
   "execution_count": 15,
   "id": "4a70ad8a",
   "metadata": {},
   "outputs": [
    {
     "name": "stdout",
     "output_type": "stream",
     "text": [
      "epoch  1, loss  3.8791\n",
      "epoch  2, loss  1.6955\n",
      "epoch  3, loss  0.7627\n",
      "epoch  4, loss  0.3561\n",
      "epoch  5, loss  0.1738\n",
      "epoch  6, loss  0.0891\n",
      "epoch  7, loss  0.0479\n",
      "epoch  8, loss  0.0270\n",
      "epoch  9, loss  0.0157\n",
      "epoch  10, loss  0.0094\n",
      "epoch  11, loss  0.0058\n",
      "epoch  12, loss  0.0036\n",
      "epoch  13, loss  0.0023\n",
      "epoch  14, loss  0.0014\n",
      "epoch  15, loss  0.0009\n",
      "epoch  16, loss  0.0006\n",
      "epoch  17, loss  0.0004\n",
      "epoch  18, loss  0.0002\n",
      "epoch  19, loss  0.0002\n",
      "epoch  20, loss  0.0001\n"
     ]
    }
   ],
   "source": [
    "# 学习卷积层\n",
    "\n",
    "# 构造一个二维卷积层，一个输入通道，一个输出通道，卷积核形状为(1, 2)\n",
    "conv2d = nn.Conv2d(1, 1, kernel_size=(1, 2), bias=False)\n",
    "\n",
    "# 使用四维输入和输出格式（批量大小、通道、高度、宽度）\n",
    "X = X.reshape((1, 1, 6, 8))\n",
    "Y = Y.reshape((1, 1, 6, 7))\n",
    "lr = 3e-2\n",
    "\n",
    "for i in range(20):\n",
    "    conv2d.zero_grad()\n",
    "    Y_hat = conv2d(X)\n",
    "    l = ((Y_hat - Y) ** 2).sum()\n",
    "    l.backward()\n",
    "    conv2d.weight.data[:] -= lr * conv2d.weight.grad\n",
    "    \n",
    "    print(f'epoch {i + 1: d}, loss {l: .4f}')"
   ]
  },
  {
   "cell_type": "code",
   "execution_count": 16,
   "id": "ee5ead2d",
   "metadata": {},
   "outputs": [
    {
     "name": "stdout",
     "output_type": "stream",
     "text": [
      "tensor([[[[ 0.9989, -1.0009]]]])\n"
     ]
    }
   ],
   "source": [
    "print(conv2d.weight.data)"
   ]
  },
  {
   "cell_type": "code",
   "execution_count": null,
   "id": "20928a9d",
   "metadata": {},
   "outputs": [],
   "source": []
  }
 ],
 "metadata": {
  "kernelspec": {
   "display_name": "pytorch",
   "language": "python",
   "name": "pytorch"
  },
  "language_info": {
   "codemirror_mode": {
    "name": "ipython",
    "version": 3
   },
   "file_extension": ".py",
   "mimetype": "text/x-python",
   "name": "python",
   "nbconvert_exporter": "python",
   "pygments_lexer": "ipython3",
   "version": "3.10.15"
  }
 },
 "nbformat": 4,
 "nbformat_minor": 5
}
