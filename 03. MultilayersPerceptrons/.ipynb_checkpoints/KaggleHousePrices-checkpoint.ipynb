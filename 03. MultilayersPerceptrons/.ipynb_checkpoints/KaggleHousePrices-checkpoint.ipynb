{
 "cells": [
  {
   "cell_type": "code",
   "execution_count": 1,
   "id": "012e5a89",
   "metadata": {},
   "outputs": [],
   "source": [
    "import torch\n",
    "import torch.nn as nn\n",
    "import torch.utils.data as Data\n",
    "import pandas as pd\n",
    "import numpy as np\n",
    "import matplotlib.pyplot as plt"
   ]
  },
  {
   "cell_type": "code",
   "execution_count": 2,
   "id": "bd010d1f",
   "metadata": {},
   "outputs": [
    {
     "name": "stdout",
     "output_type": "stream",
     "text": [
      "(1460, 81)\n",
      "(1459, 80)\n",
      "   Id  MSSubClass MSZoning  LotFrontage SaleType SaleCondition  SalePrice\n",
      "0   1          60       RL         65.0       WD        Normal     208500\n",
      "1   2          20       RL         80.0       WD        Normal     181500\n",
      "2   3          60       RL         68.0       WD        Normal     223500\n",
      "3   4          70       RL         60.0       WD       Abnorml     140000\n"
     ]
    }
   ],
   "source": [
    "# 读取数据\n",
    "train_path = 'E:/Datasets/house-prices-advanced-regression-techniques/train.csv'\n",
    "test_path = 'E:/Datasets/house-prices-advanced-regression-techniques/test.csv'\n",
    "train_data = pd.read_csv(train_path)\n",
    "test_data = pd.read_csv(test_path)\n",
    "\n",
    "print(train_data.shape)\n",
    "print(test_data.shape)\n",
    "print(train_data.iloc[0:4, [0, 1, 2, 3, -3, -2, -1]])"
   ]
  },
  {
   "cell_type": "code",
   "execution_count": 3,
   "id": "690d9d7d",
   "metadata": {},
   "outputs": [
    {
     "name": "stdout",
     "output_type": "stream",
     "text": [
      "(2919, 79)\n"
     ]
    }
   ],
   "source": [
    "# 删除Id属性\n",
    "all_features = pd.concat((train_data.iloc[:, 1:-1], test_data.iloc[:, 1:]))\n",
    "\n",
    "print(all_features.shape)"
   ]
  },
  {
   "cell_type": "code",
   "execution_count": 4,
   "id": "ec1a7b91",
   "metadata": {},
   "outputs": [
    {
     "name": "stdout",
     "output_type": "stream",
     "text": [
      "torch.Size([1460, 330])\n",
      "torch.Size([1459, 330])\n",
      "torch.Size([1460, 1])\n"
     ]
    }
   ],
   "source": [
    "# 数据预处理\n",
    "# 连续值标准化\n",
    "numeric_features = all_features.dtypes[all_features.dtypes != 'object'].index\n",
    "all_features[numeric_features] = all_features[numeric_features].apply(\n",
    "    lambda x: (x - x.mean()) / (x.std()))\n",
    "all_features[numeric_features] = all_features[numeric_features].fillna(0)\n",
    "\n",
    "# 离散值处理\n",
    "all_features = pd.get_dummies(all_features, dummy_na=True)\n",
    "bool_features = all_features.dtypes[all_features.dtypes == 'bool'].index\n",
    "all_features[bool_features] = all_features[bool_features].astype('int')\n",
    "\n",
    "# 转换为tensor\n",
    "n_train = train_data.shape[0]\n",
    "train_features = torch.tensor(all_features[:n_train].values, dtype=torch.float32)\n",
    "test_features = torch.tensor(all_features[n_train:].values, dtype=torch.float32)\n",
    "train_labels = torch.tensor(train_data.SalePrice.values.reshape([-1, 1]), dtype=torch.float32)\n",
    "\n",
    "print(train_features.shape)\n",
    "print(test_features.shape)\n",
    "print(train_labels.shape)"
   ]
  },
  {
   "cell_type": "code",
   "execution_count": 5,
   "id": "1030ebc7",
   "metadata": {},
   "outputs": [],
   "source": [
    "# 定义模型\n",
    "class MyNet(nn.Module):\n",
    "    def __init__(self, n_inputs, n_outputs):\n",
    "        super(MyNet, self).__init__()\n",
    "        self.linear1 = nn.Linear(n_inputs, 256)\n",
    "        self.dropout1 = nn.Dropout(0.1)\n",
    "        self.linear2 = nn.Linear(256, 512)\n",
    "        self.dropout2 = nn.Dropout(0.5)\n",
    "        self.linear3 = nn.Linear(512, 256)\n",
    "        self.dropout3 = nn.Dropout(0.1)\n",
    "        self.linear4 = nn.Linear(256, n_outputs)\n",
    "        \n",
    "        self.apply(self._init_params)\n",
    "    \n",
    "    def _init_params(self, layer):\n",
    "        if isinstance(layer, nn.Linear):\n",
    "            nn.init.xavier_uniform_(layer.weight)\n",
    "            nn.init.constant_(layer.bias, val=0)\n",
    "    \n",
    "    def forward(self, X):\n",
    "        X = self.linear1(X)\n",
    "        X = torch.relu(X)\n",
    "        X = self.dropout1(X)\n",
    "        X = self.linear2(X)\n",
    "        X = torch.relu(X)\n",
    "        X = self.dropout2(X)\n",
    "        X = self.linear3(X)\n",
    "        X = torch.relu(X)\n",
    "        X = self.dropout3(X)\n",
    "        X = self.linear4(X)\n",
    "        \n",
    "        return X\n",
    "\n",
    "mse = nn.MSELoss()\n",
    "def log_rmse(net, X, y):\n",
    "    y_hat = net(X)\n",
    "    y = y.view(y_hat.shape)\n",
    "    y_hat = torch.clamp(y_hat, 1, float('inf'))\n",
    "    rmse = torch.sqrt(mse(torch.log(y_hat), torch.log(y)))\n",
    "    \n",
    "    return rmse"
   ]
  },
  {
   "cell_type": "code",
   "execution_count": 7,
   "id": "05cbc2d1",
   "metadata": {},
   "outputs": [],
   "source": [
    "# 定义训练函数\n",
    "def train(net, train_features, train_labels, test_features, test_labels, n_epochs, lr, wd, batch_size):\n",
    "    train_dataset = Data.TensorDataset(train_features, train_labels)\n",
    "    train_iter = Data.DataLoader(train_dataset, batch_size=batch_size, shuffle=True)\n",
    "    \n",
    "    optimizer = torch.optim.Adam(net.parameters(), lr=lr, weight_decay=wd)\n",
    "    \n",
    "    train_losses, test_losses = [], []\n",
    "    \n",
    "    for epoch in range(n_epochs):\n",
    "        for X, y in train_iter:\n",
    "            optimizer.zero_grad()\n",
    "            y_hat = net(X)\n",
    "            l = mse(y_hat, y.view(y_hat.shape)) \n",
    "#             l = log_rmse(net, X, y) # 用这个效果很差\n",
    "            l.backward()\n",
    "            optimizer.step()\n",
    "        \n",
    "        train_loss = log_rmse(net, train_features, train_labels).item()\n",
    "        train_losses.append(train_loss)\n",
    "        \n",
    "        if test_labels is not None:\n",
    "            test_loss = log_rmse(net, test_features, test_labels).item()\n",
    "            test_losses.append(test_loss)\n",
    "            \n",
    "    return train_losses, test_losses"
   ]
  },
  {
   "cell_type": "code",
   "execution_count": 8,
   "id": "6f86b61e",
   "metadata": {},
   "outputs": [],
   "source": [
    "# K折交叉验证\n",
    "def get_k_fold_data(k, i, X, y):\n",
    "    assert k > 1\n",
    "    \n",
    "    fold_size = X.shape[0] // k\n",
    "    X_train, y_train = None, None\n",
    "    \n",
    "    for j in range(k):\n",
    "        idx = slice(j * fold_size, (j + 1) * fold_size)\n",
    "        X_cur, y_cur = X[idx, :], y[idx, :]\n",
    "        \n",
    "        if i == j:\n",
    "            X_valid, y_valid = X_cur, y_cur\n",
    "        elif X_train is None:\n",
    "            X_train, y_train = X_cur, y_cur\n",
    "        else:\n",
    "            X_train = torch.cat([X_train, X_cur], 0)\n",
    "            y_train = torch.cat([y_train, y_cur], 0)\n",
    "        \n",
    "    return X_train, y_train, X_valid, y_valid\n",
    "\n",
    "def k_fold(k, n_inputs, n_outputs, train_features, train_labels, n_epochs, lr, wd, batch_size):\n",
    "    train_loss_sum, test_loss_sum = 0.0, 0.0\n",
    "    \n",
    "    for i in range(k):\n",
    "        data = get_k_fold_data(k, i, train_features, train_labels)\n",
    "        \n",
    "        net = MyNet(n_inputs, n_outputs)\n",
    "        \n",
    "        train_losses, test_losses = train(net, *data, n_epochs, lr, wd, batch_size)\n",
    "        \n",
    "        train_loss_sum += train_losses[-1]\n",
    "        test_loss_sum += test_losses[-1]\n",
    "        \n",
    "        if i == 0:\n",
    "            fig, ax = plt.subplots(figsize=[5, 2.5])\n",
    "            ax.set_xlabel('epoch')\n",
    "            ax.set_ylabel('log rmse')\n",
    "            ax.set_yscale('log')\n",
    "            ax.grid(True)\n",
    "            ax.plot(range(1, n_epochs + 1), train_losses, c='b', label='train')\n",
    "            ax.plot(range(1, n_epochs + 1), test_losses, c='g', linestyle='--', label='test')\n",
    "            \n",
    "            plt.legend()\n",
    "            plt.show()\n",
    "            \n",
    "        print(f'fold {i + 1: d}, train log rmse {train_losses[-1]: .4f}, test log rmse {test_losses[-1]: .4f}')\n",
    "    \n",
    "    print(f'\\n{k: d}-fold: mean train log rmse {train_loss_sum / k: .4f}, mean test log rmse {test_loss_sum / k: .4f}')\n",
    "    "
   ]
  },
  {
   "cell_type": "code",
   "execution_count": 10,
   "id": "584fe9c8",
   "metadata": {},
   "outputs": [
    {
     "data": {
      "image/png": "[encoded data removed]",
      "text/plain": [
       "<Figure size 500x250 with 1 Axes>"
      ]
     },
     "metadata": {},
     "output_type": "display_data"
    },
    {
     "name": "stdout",
     "output_type": "stream",
     "text": [
      "fold  1, train log rmse  0.1415, test log rmse  0.1529\n",
      "fold  2, train log rmse  0.1335, test log rmse  0.1642\n",
      "fold  3, train log rmse  0.1348, test log rmse  0.1633\n",
      "fold  4, train log rmse  0.1396, test log rmse  0.1500\n",
      "fold  5, train log rmse  0.1295, test log rmse  0.1728\n",
      "\n",
      " 5-fold: mean train log rmse  0.1358, mean test log rmse  0.1606\n"
     ]
    }
   ],
   "source": [
    "k = 5\n",
    "n_inputs, n_outputs = train_features.shape[1], 1\n",
    "n_epochs, batch_size = 100, 128\n",
    "lr, wd = 0.001, 0.01\n",
    "\n",
    "k_fold(k, n_inputs, n_outputs, train_features, train_labels, n_epochs, lr, wd, batch_size)"
   ]
  },
  {
   "cell_type": "code",
   "execution_count": 12,
   "id": "b600ef5f",
   "metadata": {},
   "outputs": [
    {
     "data": {
      "image/png": "[encoded data removed]",
      "text/plain": [
       "<Figure size 500x250 with 1 Axes>"
      ]
     },
     "metadata": {},
     "output_type": "display_data"
    },
    {
     "name": "stdout",
     "output_type": "stream",
     "text": [
      "train log rmse  0.1354\n"
     ]
    }
   ],
   "source": [
    "# 训练\n",
    "n_inputs, n_outputs = train_features.shape[1], 1\n",
    "n_epochs, batch_size = 100, 128\n",
    "lr, wd = 0.001, 0.01\n",
    "\n",
    "net = MyNet(n_inputs, n_outputs)\n",
    "\n",
    "train_losses, _ = train(net, train_features, train_labels, None, None, n_epochs, lr, wd, batch_size)\n",
    "\n",
    "fig, ax = plt.subplots(figsize=[5, 2.5])\n",
    "ax.set_xlabel('epoch')\n",
    "ax.set_ylabel('log rmse')\n",
    "ax.set_yscale('log')\n",
    "ax.grid(True)\n",
    "ax.plot(range(1, n_epochs + 1), train_losses, c='b', label='train')\n",
    "\n",
    "plt.legend()\n",
    "plt.show()\n",
    "    \n",
    "print(f'train log rmse {train_losses[-1]: .4f}')"
   ]
  },
  {
   "cell_type": "code",
   "execution_count": 20,
   "id": "fc0d3581",
   "metadata": {},
   "outputs": [],
   "source": [
    "# 预测\n",
    "preds = net(test_features).detach().numpy()\n",
    "test_data['SalePrice'] = pd.Series(preds.flatten())\n",
    "submission = pd.concat((test_data['Id'], test_data['SalePrice']), axis=1)\n",
    "submission.to_csv('submission.csv', index=False)"
   ]
  },
  {
   "cell_type": "code",
   "execution_count": null,
   "id": "22a5419e",
   "metadata": {},
   "outputs": [],
   "source": []
  }
 ],
 "metadata": {
  "kernelspec": {
   "display_name": "pytorch",
   "language": "python",
   "name": "pytorch"
  },
  "language_info": {
   "codemirror_mode": {
    "name": "ipython",
    "version": 3
   },
   "file_extension": ".py",
   "mimetype": "text/x-python",
   "name": "python",
   "nbconvert_exporter": "python",
   "pygments_lexer": "ipython3",
   "version": "3.10.15"
  }
 },
 "nbformat": 4,
 "nbformat_minor": 5
}
