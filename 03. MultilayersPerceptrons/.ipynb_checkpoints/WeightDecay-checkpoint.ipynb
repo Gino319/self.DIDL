{
 "cells": [
  {
   "cell_type": "code",
   "execution_count": 1,
   "id": "5f1ce014",
   "metadata": {},
   "outputs": [],
   "source": [
    "import torch\n",
    "import torch.nn as nn\n",
    "import torch.utils.data as Data\n",
    "import torch.optim as optim\n",
    "import numpy as np\n",
    "import matplotlib.pyplot as plt"
   ]
  },
  {
   "cell_type": "code",
   "execution_count": 5,
   "id": "a5176cb6",
   "metadata": {},
   "outputs": [],
   "source": [
    "# 生成数据\n",
    "n_train, n_test, n_inputs, batch_size = 20, 100, 200, 5\n",
    "true_w, true_b = torch.ones([n_inputs, 1], dtype=torch.float) * 0.01, 0.05\n",
    "\n",
    "features = torch.randn([n_train + n_test, n_inputs], dtype=torch.float)\n",
    "labels = torch.mm(features, true_w) + true_b\n",
    "\n",
    "train_data = Data.TensorDataset(features[:n_train, :], labels[:n_train, :])\n",
    "test_data = Data.TensorDataset(features[n_train:n_train + n_test, :], labels[n_train:n_train + n_test, :])\n",
    "train_iter = Data.DataLoader(train_data, batch_size=batch_size, shuffle=True)\n",
    "test_iter = Data.DataLoader(test_data, batch_size=batch_size, shuffle=True)"
   ]
  },
  {
   "cell_type": "code",
   "execution_count": 9,
   "id": "7f2fa53e",
   "metadata": {},
   "outputs": [],
   "source": [
    "# 定义模型\n",
    "class LinearNet(nn.Module):\n",
    "    def __init__(self, n_inputs, n_outputs):\n",
    "        super(LinearNet, self).__init__()\n",
    "        self.linear = nn.Linear(n_inputs, n_outputs)\n",
    "        self._init_params()\n",
    "    \n",
    "    def _init_params(self):\n",
    "        nn.init.normal_(self.linear.weight, mean=0, std=1)\n",
    "        nn.init.constant_(self.linear.bias, val=0)\n",
    "    \n",
    "    def forward(self, x):\n",
    "        return self.linear(x)"
   ]
  },
  {
   "cell_type": "code",
   "execution_count": 11,
   "id": "03b235da",
   "metadata": {},
   "outputs": [],
   "source": [
    "# 损失计算函数\n",
    "def evaluate_loss(net, data_iter, loss):\n",
    "    loss_sum = 0.0\n",
    "    \n",
    "    for x, y in data_iter:\n",
    "        y_hat = net(x)\n",
    "        l = loss(y_hat, y.view(y_hat.shape)).mean()\n",
    "        loss_sum += l\n",
    "    \n",
    "    return l / len(data_iter)"
   ]
  },
  {
   "cell_type": "code",
   "execution_count": 13,
   "id": "a14d93ce",
   "metadata": {},
   "outputs": [
    {
     "ename": "SyntaxError",
     "evalue": "invalid syntax. Perhaps you forgot a comma? (2867846231.py, line 8)",
     "output_type": "error",
     "traceback": [
      "\u001b[1;36m  Cell \u001b[1;32mIn[13], line 8\u001b[1;36m\u001b[0m\n\u001b[1;33m    {'params': net.linear.weight, 'weight_decay': l2_lambda}\u001b[0m\n\u001b[1;37m    ^\u001b[0m\n\u001b[1;31mSyntaxError\u001b[0m\u001b[1;31m:\u001b[0m invalid syntax. Perhaps you forgot a comma?\n"
     ]
    }
   ],
   "source": [
    "# 训练模型函数\n",
    "def train(l2_lambda, lr):\n",
    "    net = LinearNet(n_inputs, n_outputs)\n",
    "    \n",
    "    loss = nn.MSELoss(reduction='none')\n",
    "    \n",
    "    params = [\n",
    "        {'params': net.linear.weight, 'weight_decay': l2_lambda}\n",
    "        {'params': net.linear.bias}\n",
    "    ]\n",
    "    optimizer = optim.SGD(params, lr = lr)\n",
    "    \n",
    "    n_epochs = 100\n",
    "    \n",
    "    train_losses, test_losses = [], []\n",
    "    \n",
    "    for epoch in n_epochs:\n",
    "        for x, y in train_iter:\n",
    "            y_hat = net(x)\n",
    "            l = loss(y_hat, y.view(y_hat.shape)).mean()\n",
    "            \n",
    "            optimizer.zero_grad()\n",
    "            l.backward()\n",
    "            optimizer.step()\n",
    "        \n",
    "        train_loss = evaluate_loss(net, train_iter, loss)\n",
    "        test_loss = evaluate_loss(net, test_iter, loss)\n",
    "        train_losses.append(train_loss)\n",
    "        test_losses.append(test_loss)\n",
    "        \n",
    "        if(epoch == 0 or (epoch + 1) % 10 == 0):\n",
    "            print(f'epoch {epoch + 1: d}, train loss {train_loss: .4f}, test loss {test_loss: .4f}')\n",
    "    \n",
    "    fig, ax = plt.subplots(figsize=[5, 2.5])\n",
    "    ax.set_yscale('log')\n",
    "    ax.grid(True)\n",
    "    \n",
    "    ax.plot(range(1, n_epochs + 1), train_losses, color='blue', linestyle='--')\n",
    "    ax.plot(range(1, n_epochs + 1), test_losses, color='purple', linestyle='-.')\n",
    "    \n",
    "    plt.legend()\n",
    "    plt.show()"
   ]
  },
  {
   "cell_type": "code",
   "execution_count": 8,
   "id": "82a13e0a",
   "metadata": {},
   "outputs": [
    {
     "ename": "SyntaxError",
     "evalue": "incomplete input (187047542.py, line 2)",
     "output_type": "error",
     "traceback": [
      "\u001b[1;36m  Cell \u001b[1;32mIn[8], line 2\u001b[1;36m\u001b[0m\n\u001b[1;33m    def loss(y_hat, y):\u001b[0m\n\u001b[1;37m                       ^\u001b[0m\n\u001b[1;31mSyntaxError\u001b[0m\u001b[1;31m:\u001b[0m incomplete input\n"
     ]
    }
   ],
   "source": []
  },
  {
   "cell_type": "code",
   "execution_count": null,
   "id": "7524568a",
   "metadata": {},
   "outputs": [],
   "source": [
    "r"
   ]
  }
 ],
 "metadata": {
  "kernelspec": {
   "display_name": "pytorch",
   "language": "python",
   "name": "pytorch"
  },
  "language_info": {
   "codemirror_mode": {
    "name": "ipython",
    "version": 3
   },
   "file_extension": ".py",
   "mimetype": "text/x-python",
   "name": "python",
   "nbconvert_exporter": "python",
   "pygments_lexer": "ipython3",
   "version": "3.10.15"
  }
 },
 "nbformat": 4,
 "nbformat_minor": 5
}
