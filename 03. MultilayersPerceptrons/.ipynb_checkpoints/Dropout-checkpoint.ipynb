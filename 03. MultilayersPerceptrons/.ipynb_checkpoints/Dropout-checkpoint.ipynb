{
 "cells": [
  {
   "cell_type": "code",
   "execution_count": 35,
   "id": "f1e54ba1",
   "metadata": {},
   "outputs": [],
   "source": [
    "import torch\n",
    "import torch.nn as nn\n",
    "import torch.utils.data as Data\n",
    "import torchvision\n",
    "import torchvision.transforms as transforms\n",
    "import numpy as np\n",
    "import matplotlib.pyplot as plt"
   ]
  },
  {
   "cell_type": "code",
   "execution_count": 42,
   "id": "b3a6072c",
   "metadata": {},
   "outputs": [],
   "source": [
    "# 定义device\n",
    "if torch.cuda.is_available():\n",
    "    device = torch.device('cuda')\n",
    "else:\n",
    "    device = torch.device('cpu')"
   ]
  },
  {
   "cell_type": "code",
   "execution_count": 43,
   "id": "12896583",
   "metadata": {},
   "outputs": [
    {
     "ename": "AttributeError",
     "evalue": "'DataLoader' object has no attribute 'to'",
     "output_type": "error",
     "traceback": [
      "\u001b[1;31m---------------------------------------------------------------------------\u001b[0m",
      "\u001b[1;31mAttributeError\u001b[0m                            Traceback (most recent call last)",
      "Cell \u001b[1;32mIn[43], line 8\u001b[0m\n\u001b[0;32m      6\u001b[0m train_iter \u001b[38;5;241m=\u001b[39m Data\u001b[38;5;241m.\u001b[39mDataLoader(mnist_train, batch_size\u001b[38;5;241m=\u001b[39mbatch_size, shuffle\u001b[38;5;241m=\u001b[39m\u001b[38;5;28;01mTrue\u001b[39;00m)\n\u001b[0;32m      7\u001b[0m test_iter \u001b[38;5;241m=\u001b[39m Data\u001b[38;5;241m.\u001b[39mDataLoader(mnist_test, batch_size\u001b[38;5;241m=\u001b[39mbatch_size, shuffle\u001b[38;5;241m=\u001b[39m\u001b[38;5;28;01mTrue\u001b[39;00m)\n\u001b[1;32m----> 8\u001b[0m \u001b[43mtrain_iter\u001b[49m\u001b[38;5;241;43m.\u001b[39;49m\u001b[43mto\u001b[49m(device)\n\u001b[0;32m      9\u001b[0m test_iter\u001b[38;5;241m.\u001b[39mto(device)\n",
      "\u001b[1;31mAttributeError\u001b[0m: 'DataLoader' object has no attribute 'to'"
     ]
    }
   ],
   "source": [
    "# 读取数据\n",
    "mnist_train = torchvision.datasets.FashionMNIST(root='E:/Datasets/FashionMNIST', train=True, transform=transforms.ToTensor())\n",
    "mnist_test = torchvision.datasets.FashionMNIST(root='E:/Datasets/FashionMNIST', train=False, transform=transforms.ToTensor())\n",
    "\n",
    "batch_size = 256\n",
    "train_iter = Data.DataLoader(mnist_train, batch_size=batch_size, shuffle=True)\n",
    "test_iter = Data.DataLoader(mnist_test, batch_size=batch_size, shuffle=True)"
   ]
  },
  {
   "cell_type": "code",
   "execution_count": 37,
   "id": "daf69629",
   "metadata": {},
   "outputs": [],
   "source": [
    "# 手搓Dropout（没有使用）\n",
    "def dropout_layer(X, dropout):\n",
    "    assert 0 <= dropout <= 1\n",
    "    \n",
    "    if dropout == 0:\n",
    "        return X\n",
    "    if dropout == 1:\n",
    "        return torch.zeros(X.shape, dtype=torch.float)\n",
    "    return (torch.rand(X.shape) > dropout).float() * X / 1 - dropout"
   ]
  },
  {
   "cell_type": "code",
   "execution_count": 38,
   "id": "3c646f8f",
   "metadata": {},
   "outputs": [],
   "source": [
    "# 定义模型\n",
    "class MLPNet(nn.Module):\n",
    "    def __init__(self, n_inputs, n_outputs, n_hidden1, n_hidden2, dropout_rate1, dropout_rate2):\n",
    "        super(MLPNet, self).__init__()\n",
    "        self.flatten = nn.Flatten()\n",
    "        self.linear1 = nn.Linear(n_inputs, n_hidden1)\n",
    "        self.dropout1 = nn.Dropout(dropout_rate1)\n",
    "        self.linear2 = nn.Linear(n_hidden1, n_hidden2)\n",
    "        self.dropout2 = nn.Dropout(dropout_rate2)\n",
    "        self.linear3 = nn.Linear(n_hidden2, n_outputs)\n",
    "        \n",
    "        self.apply(self._init_params)\n",
    "        \n",
    "    def _init_params(self, layer):\n",
    "        if isinstance(layer, nn.Linear):\n",
    "            nn.init.normal_(layer.weight, mean=0, std=0.01)\n",
    "            nn.init.constant_(layer.bias, val=0)\n",
    "    \n",
    "    def forward(self, X):\n",
    "        X = self.flatten(X)\n",
    "        X = self.linear1(X)\n",
    "        X = torch.relu(X)\n",
    "        X = self.dropout1(X)\n",
    "        X = self.linear2(X)\n",
    "        X = torch.relu(X)\n",
    "        X = self.dropout2(X)\n",
    "        X = self.linear3(X)\n",
    "        \n",
    "        return X"
   ]
  },
  {
   "cell_type": "code",
   "execution_count": 39,
   "id": "898c5ff1",
   "metadata": {},
   "outputs": [],
   "source": [
    "# 定义评估准确率函数\n",
    "def evaluate_accuracy(data_iter, net):\n",
    "    sum_acc = 0.0\n",
    "    \n",
    "    for X, y in data_iter:\n",
    "        y_hat = net(X)\n",
    "        acc = (y_hat.argmax(dim=1) == y).float().mean().item()\n",
    "        sum_acc += acc\n",
    "    \n",
    "    return sum_acc / len(data_iter)"
   ]
  },
  {
   "cell_type": "code",
   "execution_count": 40,
   "id": "3f82e162",
   "metadata": {},
   "outputs": [],
   "source": [
    "# 定义训练函数\n",
    "def train(n_inputs, n_outputs, n_hidden1, n_hidden2, dropout_rate1, dropout_rate2, n_epochs, lr):\n",
    "    net = MLPNet(n_inputs, n_outputs, n_hidden1, n_hidden2, dropout_rate1, dropout_rate2)\n",
    "    optimizer = torch.optim.SGD(net.parameters(), lr)\n",
    "    loss = nn.CrossEntropyLoss()\n",
    "    \n",
    "    losses, train_accs, test_accs = [], [], []\n",
    "    \n",
    "    for epoch in range(n_epochs):\n",
    "        sum_loss = 0.0\n",
    "        \n",
    "        for X, y in train_iter:\n",
    "            y_hat = net(X)\n",
    "            l = loss(y_hat, y)\n",
    "            \n",
    "            optimizer.zero_grad()\n",
    "            l.backward()\n",
    "            optimizer.step()\n",
    "            \n",
    "            sum_loss += l.item()\n",
    "        \n",
    "        cur_loss = sum_loss / len(train_iter)\n",
    "        train_acc = evaluate_accuracy(train_iter, net)\n",
    "        test_acc = evaluate_accuracy(test_iter, net)\n",
    "        losses.append(cur_loss)\n",
    "        train_accs.append(train_acc)\n",
    "        test_accs.append(test_acc)\n",
    "        \n",
    "        print('epoch %d, loss %.4f, train acc %.3f, test acc %.3f)' % (epoch + 1, cur_loss, train_acc, test_acc))\n",
    "        \n",
    "    fig, ax = plt.subplots(figsize=[5, 2.5])\n",
    "    \n",
    "    ax.set_xlabel('epoch')\n",
    "    ax.grid(True)\n",
    "              \n",
    "    ax.plot(range(1, n_epochs + 1), losses, c='b', label='loss')\n",
    "    ax.plot(range(1, n_epochs + 1), train_accs, c='g', linestyle = '--', label='train acc')\n",
    "    ax.plot(range(1, n_epochs + 1), losses, c='purple', linestype = '-.', label='test acc')"
   ]
  },
  {
   "cell_type": "code",
   "execution_count": 41,
   "id": "ab145a9c",
   "metadata": {},
   "outputs": [
    {
     "name": "stdout",
     "output_type": "stream",
     "text": [
      "epoch 0, loss 1.4085, train acc 0.663, test acc 0.659)\n",
      "epoch 1, loss 0.6403, train acc 0.787, test acc 0.771)\n",
      "epoch 2, loss 0.5235, train acc 0.772, test acc 0.760)\n",
      "epoch 3, loss 0.4751, train acc 0.820, test acc 0.807)\n",
      "epoch 4, loss 0.4411, train acc 0.820, test acc 0.806)\n",
      "epoch 5, loss 0.4221, train acc 0.848, test acc 0.833)\n",
      "epoch 6, loss 0.4013, train acc 0.849, test acc 0.835)\n",
      "epoch 7, loss 0.3868, train acc 0.824, test acc 0.803)\n",
      "epoch 8, loss 0.3812, train acc 0.860, test acc 0.838)\n",
      "epoch 9, loss 0.3641, train acc 0.865, test acc 0.842)\n"
     ]
    },
    {
     "ename": "NameError",
     "evalue": "name 'n_epoch' is not defined",
     "output_type": "error",
     "traceback": [
      "\u001b[1;31m---------------------------------------------------------------------------\u001b[0m",
      "\u001b[1;31mNameError\u001b[0m                                 Traceback (most recent call last)",
      "Cell \u001b[1;32mIn[41], line 2\u001b[0m\n\u001b[0;32m      1\u001b[0m \u001b[38;5;66;03m# 不加入Dropout\u001b[39;00m\n\u001b[1;32m----> 2\u001b[0m \u001b[43mtrain\u001b[49m\u001b[43m(\u001b[49m\u001b[38;5;241;43m28\u001b[39;49m\u001b[43m \u001b[49m\u001b[38;5;241;43m*\u001b[39;49m\u001b[43m \u001b[49m\u001b[38;5;241;43m28\u001b[39;49m\u001b[43m,\u001b[49m\u001b[43m \u001b[49m\u001b[38;5;241;43m10\u001b[39;49m\u001b[43m,\u001b[49m\u001b[43m \u001b[49m\u001b[38;5;241;43m256\u001b[39;49m\u001b[43m,\u001b[49m\u001b[43m \u001b[49m\u001b[38;5;241;43m256\u001b[39;49m\u001b[43m,\u001b[49m\u001b[43m \u001b[49m\u001b[38;5;241;43m0.2\u001b[39;49m\u001b[43m,\u001b[49m\u001b[43m \u001b[49m\u001b[38;5;241;43m0.5\u001b[39;49m\u001b[43m,\u001b[49m\u001b[43m \u001b[49m\u001b[38;5;241;43m10\u001b[39;49m\u001b[43m,\u001b[49m\u001b[43m \u001b[49m\u001b[38;5;241;43m0.5\u001b[39;49m\u001b[43m)\u001b[49m\n",
      "Cell \u001b[1;32mIn[40], line 36\u001b[0m, in \u001b[0;36mtrain\u001b[1;34m(n_inputs, n_outputs, n_hidden1, n_hidden2, dropout_rate1, dropout_rate2, n_epochs, lr)\u001b[0m\n\u001b[0;32m     33\u001b[0m ax\u001b[38;5;241m.\u001b[39mset_xlabel(\u001b[38;5;124m'\u001b[39m\u001b[38;5;124mepoch\u001b[39m\u001b[38;5;124m'\u001b[39m)\n\u001b[0;32m     34\u001b[0m ax\u001b[38;5;241m.\u001b[39mgrid(\u001b[38;5;28;01mTrue\u001b[39;00m)\n\u001b[1;32m---> 36\u001b[0m ax\u001b[38;5;241m.\u001b[39mplot(\u001b[38;5;28mrange\u001b[39m(\u001b[38;5;241m1\u001b[39m, \u001b[43mn_epoch\u001b[49m \u001b[38;5;241m+\u001b[39m \u001b[38;5;241m1\u001b[39m), losses, c\u001b[38;5;241m=\u001b[39m\u001b[38;5;124m'\u001b[39m\u001b[38;5;124mb\u001b[39m\u001b[38;5;124m'\u001b[39m, label\u001b[38;5;241m=\u001b[39m\u001b[38;5;124m'\u001b[39m\u001b[38;5;124mloss\u001b[39m\u001b[38;5;124m'\u001b[39m)\n\u001b[0;32m     37\u001b[0m ax\u001b[38;5;241m.\u001b[39mplot(\u001b[38;5;28mrange\u001b[39m(\u001b[38;5;241m1\u001b[39m, n_epoch \u001b[38;5;241m+\u001b[39m \u001b[38;5;241m1\u001b[39m), train_accs, c\u001b[38;5;241m=\u001b[39m\u001b[38;5;124m'\u001b[39m\u001b[38;5;124mg\u001b[39m\u001b[38;5;124m'\u001b[39m, linestyle \u001b[38;5;241m=\u001b[39m \u001b[38;5;124m'\u001b[39m\u001b[38;5;124m--\u001b[39m\u001b[38;5;124m'\u001b[39m, label\u001b[38;5;241m=\u001b[39m\u001b[38;5;124m'\u001b[39m\u001b[38;5;124mtrain acc\u001b[39m\u001b[38;5;124m'\u001b[39m)\n\u001b[0;32m     38\u001b[0m ax\u001b[38;5;241m.\u001b[39mplot(\u001b[38;5;28mrange\u001b[39m(\u001b[38;5;241m1\u001b[39m, n_epoch \u001b[38;5;241m+\u001b[39m \u001b[38;5;241m1\u001b[39m), losses, c\u001b[38;5;241m=\u001b[39m\u001b[38;5;124m'\u001b[39m\u001b[38;5;124mpurple\u001b[39m\u001b[38;5;124m'\u001b[39m, linestype \u001b[38;5;241m=\u001b[39m \u001b[38;5;124m'\u001b[39m\u001b[38;5;124m-.\u001b[39m\u001b[38;5;124m'\u001b[39m, label\u001b[38;5;241m=\u001b[39m\u001b[38;5;124m'\u001b[39m\u001b[38;5;124mtest acc\u001b[39m\u001b[38;5;124m'\u001b[39m)\n",
      "\u001b[1;31mNameError\u001b[0m: name 'n_epoch' is not defined"
     ]
    },
    {
     "data": {
      "image/png": "[encoded data removed]",
      "text/plain": [
       "<Figure size 500x250 with 1 Axes>"
      ]
     },
     "metadata": {},
     "output_type": "display_data"
    }
   ],
   "source": [
    "# 加入Dropout\n",
    "train(28 * 28, 10, 256, 256, 0.2, 0.5, 10, 0.5)"
   ]
  },
  {
   "cell_type": "code",
   "execution_count": null,
   "id": "9af9a48c",
   "metadata": {},
   "outputs": [],
   "source": [
    "# 不加入Dropout\n",
    "train(28 * 28, 10, 256, 256, 0, 0, 10, 0.5)"
   ]
  }
 ],
 "metadata": {
  "kernelspec": {
   "display_name": "pytorch",
   "language": "python",
   "name": "pytorch"
  },
  "language_info": {
   "codemirror_mode": {
    "name": "ipython",
    "version": 3
   },
   "file_extension": ".py",
   "mimetype": "text/x-python",
   "name": "python",
   "nbconvert_exporter": "python",
   "pygments_lexer": "ipython3",
   "version": "3.10.15"
  }
 },
 "nbformat": 4,
 "nbformat_minor": 5
}
