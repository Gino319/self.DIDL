{
 "cells": [
  {
   "cell_type": "code",
   "execution_count": null,
   "id": "8bea1108",
   "metadata": {},
   "outputs": [],
   "source": [
    "import torch\n",
    "import torch.nn as nn\n",
    "import torch.utils.data as Data\n",
    "import torchvision\n",
    "import torchvision.transforms as transforms\n",
    "import numpy\n",
    "import matplotlib.pyplot as plt"
   ]
  },
  {
   "cell_type": "code",
   "execution_count": 65,
   "id": "50202f9d",
   "metadata": {},
   "outputs": [],
   "source": [
    "# 读取数据\n",
    "mnist_train = torchvision.datasets.FashionMNIST(root='E:/Datasets/FashionMNIST', train=True, transform=transforms.ToTensor())\n",
    "mnist_test = torchvision.datasets.FashionMNIST(root='E:/Datasets/FashionMNIST', train=False, transform=transforms.ToTensor())\n",
    "\n",
    "batch_size = 256\n",
    "train_iter = Data.DataLoader(mnist_train, batch_size=batch_size, shuffle=True)\n",
    "test_iter = Data.DataLoader(mnist_test, batch_size=batch_size, shuffle=True)"
   ]
  },
  {
   "cell_type": "code",
   "execution_count": 2,
   "id": "b4cd997a",
   "metadata": {},
   "outputs": [],
   "source": [
    "# 定义模型\n",
    "class MLPNet(nn.Module):\n",
    "    def __init__(self, num_inputs, num_outputs, num_hidden):\n",
    "        super(MLPNet, self).__init__()\n",
    "        self.flatten = nn.Flatten()\n",
    "        self.linear1 = nn.Linear(num_inputs, num_hidden)\n",
    "        self.relu = nn.ReLU()\n",
    "        self.linear2 = nn.Linear(num_hidden, num_outputs)\n",
    "        \n",
    "        self.apply(self._init_params)\n",
    "        \n",
    "    def _init_params(self, m):\n",
    "        if type(m) == nn.Linear:\n",
    "            nn.init.normal_(m.weight, mean=0, std=0.01)\n",
    "            nn.init.constant_(m.bias, val=0)\n",
    "    \n",
    "    def forward(self, x):\n",
    "        x = self.flatten(x)\n",
    "        x = self.linear1(x)\n",
    "        x = self.relu(x)\n",
    "        x = self.linear2(x)\n",
    "        return x"
   ]
  },
  {
   "cell_type": "code",
   "execution_count": 67,
   "id": "537dedc3",
   "metadata": {},
   "outputs": [],
   "source": [
    "# 构建模型\n",
    "num_inputs, num_outputs, num_hidden = 28 * 28, 10, 256\n",
    "net = MLPNet(num_inputs, num_outputs, num_hidden)\n",
    "\n",
    "batch_size, lr = 256, 0.1\n",
    "optimizer = torch.optim.SGD(net.parameters(), lr = lr)\n",
    "loss = nn.CrossEntropyLoss()"
   ]
  },
  {
   "cell_type": "code",
   "execution_count": 68,
   "id": "b5f23a4d",
   "metadata": {},
   "outputs": [],
   "source": [
    "# 测试集准确率计算\n",
    "def evaluate_accuracy(data_iter, net):\n",
    "    sum_acc, n = 0.0, 1\n",
    "    for x, y in data_iter:\n",
    "        y_hat = net(x)\n",
    "        sum_acc += (y_hat.argmax(dim=1) == y).float().sum().item()\n",
    "        n += y.shape[0]\n",
    "    return sum_acc / n"
   ]
  },
  {
   "cell_type": "code",
   "execution_count": 69,
   "id": "c6e07be3",
   "metadata": {},
   "outputs": [
    {
     "name": "stdout",
     "output_type": "stream",
     "text": [
      "epoch  1, loss  1.0403, train acc  0.639, test acc  0.737\n",
      "epoch  2, loss  0.6002, train acc  0.788, test acc  0.805\n",
      "epoch  3, loss  0.5188, train acc  0.818, test acc  0.811\n",
      "epoch  4, loss  0.4788, train acc  0.833, test acc  0.821\n",
      "epoch  5, loss  0.4534, train acc  0.840, test acc  0.766\n",
      "epoch  6, loss  0.4336, train acc  0.847, test acc  0.832\n",
      "epoch  7, loss  0.4174, train acc  0.853, test acc  0.844\n",
      "epoch  8, loss  0.4050, train acc  0.857, test acc  0.838\n",
      "epoch  9, loss  0.3919, train acc  0.862, test acc  0.849\n",
      "epoch  10, loss  0.3820, train acc  0.865, test acc  0.850\n",
      "epoch  11, loss  0.3735, train acc  0.868, test acc  0.848\n",
      "epoch  12, loss  0.3671, train acc  0.870, test acc  0.854\n",
      "epoch  13, loss  0.3582, train acc  0.873, test acc  0.858\n",
      "epoch  14, loss  0.3526, train acc  0.874, test acc  0.858\n",
      "epoch  15, loss  0.3454, train acc  0.877, test acc  0.855\n",
      "epoch  16, loss  0.3397, train acc  0.880, test acc  0.859\n",
      "epoch  17, loss  0.3356, train acc  0.881, test acc  0.842\n",
      "epoch  18, loss  0.3304, train acc  0.883, test acc  0.854\n",
      "epoch  19, loss  0.3276, train acc  0.883, test acc  0.861\n",
      "epoch  20, loss  0.3203, train acc  0.884, test acc  0.853\n",
      "epoch  21, loss  0.3154, train acc  0.887, test acc  0.865\n",
      "epoch  22, loss  0.3115, train acc  0.889, test acc  0.866\n",
      "epoch  23, loss  0.3091, train acc  0.889, test acc  0.870\n",
      "epoch  24, loss  0.3047, train acc  0.891, test acc  0.872\n",
      "epoch  25, loss  0.3011, train acc  0.892, test acc  0.853\n",
      "epoch  26, loss  0.2976, train acc  0.893, test acc  0.866\n",
      "epoch  27, loss  0.2932, train acc  0.895, test acc  0.871\n",
      "epoch  28, loss  0.2900, train acc  0.895, test acc  0.865\n",
      "epoch  29, loss  0.2879, train acc  0.897, test acc  0.875\n",
      "epoch  30, loss  0.2832, train acc  0.897, test acc  0.865\n"
     ]
    },
    {
     "data": {
      "image/png": "[encoded data removed]",
      "text/plain": [
       "<Figure size 500x250 with 1 Axes>"
      ]
     },
     "metadata": {},
     "output_type": "display_data"
    }
   ],
   "source": [
    "# 训练模型 \n",
    "num_epochs = 30\n",
    "loss_list, train_acc_list, test_acc_list = [], [], []\n",
    "\n",
    "for epoch in range(num_epochs):\n",
    "    train_l_sum, train_acc_sum, n, m = 0.1, 0.1, 0, 0\n",
    "    \n",
    "    for x, y in train_iter:\n",
    "        y_hat = net(x)\n",
    "        l = loss(y_hat, y)\n",
    "        \n",
    "        optimizer.zero_grad()\n",
    "        l.backward()\n",
    "        optimizer.step()\n",
    "        \n",
    "        train_l_sum += l.item()\n",
    "        train_acc_sum += (y_hat.argmax(dim=1) == y).float().sum().item()\n",
    "        n += y.shape[0]\n",
    "        m += 1\n",
    "        \n",
    "    test_acc = evaluate_accuracy(test_iter, net)\n",
    "    loss_list.append(train_l_sum / m)\n",
    "    train_acc_list.append(train_acc_sum / n)\n",
    "    test_acc_list.append(test_acc)\n",
    "    \n",
    "    print(f'epoch {epoch + 1: d}, loss {train_l_sum / m: .4f}, train acc {train_acc_sum / n: .3f}, test acc {test_acc: .3f}')\n",
    "\n",
    "fig, ax = plt.subplots(figsize=[5, 2.5])\n",
    "\n",
    "ax.plot(range(1, epoch + 2), loss_list, label='loss', color='blue')\n",
    "ax.plot(range(1, epoch + 2), train_acc_list, label='train acc', color='purple', linestyle='--')\n",
    "ax.plot(range(1, epoch + 2), test_acc_list, label='test acc', color='green', linestyle='-.')\n",
    "\n",
    "plt.grid(True)\n",
    "plt.legend()\n",
    "plt.show()\n",
    "    "
   ]
  },
  {
   "cell_type": "code",
   "execution_count": null,
   "id": "fe399d1b",
   "metadata": {},
   "outputs": [],
   "source": []
  }
 ],
 "metadata": {
  "kernelspec": {
   "display_name": "pytorch",
   "language": "python",
   "name": "python3"
  },
  "language_info": {
   "codemirror_mode": {
    "name": "ipython",
    "version": 3
   },
   "file_extension": ".py",
   "mimetype": "text/x-python",
   "name": "python",
   "nbconvert_exporter": "python",
   "pygments_lexer": "ipython3",
   "version": "3.10.15"
  }
 },
 "nbformat": 4,
 "nbformat_minor": 5
}
