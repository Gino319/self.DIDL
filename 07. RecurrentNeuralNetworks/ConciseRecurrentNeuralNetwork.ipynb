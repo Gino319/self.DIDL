{
 "cells": [
  {
   "cell_type": "code",
   "execution_count": 8,
   "metadata": {},
   "outputs": [],
   "source": [
    "import torch\n",
    "import torch.nn as nn\n",
    "import torch.nn.functional as F\n",
    "import sys\n",
    "sys.path.append('..')\n",
    "import myd2l"
   ]
  },
  {
   "cell_type": "code",
   "execution_count": 9,
   "metadata": {},
   "outputs": [],
   "source": [
    "batch_size, num_steps = 32, 35\n",
    "train_iter, vocab = myd2l.load_data_time_machine(batch_size, num_steps)"
   ]
  },
  {
   "cell_type": "code",
   "execution_count": 10,
   "metadata": {},
   "outputs": [
    {
     "data": {
      "text/plain": [
       "torch.Size([1, 32, 256])"
      ]
     },
     "execution_count": 10,
     "metadata": {},
     "output_type": "execute_result"
    }
   ],
   "source": [
    "num_hiddens = 256\n",
    "rnn_layer = nn.RNN(len(vocab), num_hiddens)\n",
    "\n",
    "state = torch.zeros((1, batch_size, num_hiddens))\n",
    "state.shape"
   ]
  },
  {
   "cell_type": "code",
   "execution_count": 11,
   "metadata": {},
   "outputs": [
    {
     "data": {
      "text/plain": [
       "(torch.Size([35, 32, 256]), torch.Size([1, 32, 256]))"
      ]
     },
     "execution_count": 11,
     "metadata": {},
     "output_type": "execute_result"
    }
   ],
   "source": [
    "X = torch.rand(size=(num_steps, batch_size, len(vocab)))\n",
    "Y, state_new = rnn_layer(X, state)\n",
    "Y.shape, state_new.shape"
   ]
  },
  {
   "cell_type": "code",
   "execution_count": 12,
   "metadata": {},
   "outputs": [],
   "source": [
    "class RNNModel(nn.Module):\n",
    "    def __init__(self, rnn_layer, vocab_size, **kwargs):\n",
    "        super(RNNModel, self).__init__(**kwargs)\n",
    "        self.rnn = rnn_layer\n",
    "        self.vocab_size = vocab_size\n",
    "        self.num_hiddens = self.rnn.hidden_size\n",
    "        \n",
    "        if not self.rnn.bidirectional:\n",
    "            self.num_directions = 1\n",
    "            self.linear = nn.Linear(self.num_hiddens, self.vocab_size)\n",
    "        else:\n",
    "            self.num_directions = 2\n",
    "            self.linear = nn.Linear(self.num_hiddens * 2, self.vocab_size)\n",
    "    \n",
    "    def forward(self, inputs, state):\n",
    "        X = F.one_hot(inputs.T.long(), self.vocab_size) \n",
    "        X = X.to(torch.float32)\n",
    "        Y, state = self.rnn(X, state)\n",
    "        output = self.linear(Y.reshape((-1, Y.shape[-1])))\n",
    "\n",
    "        return output, state\n",
    "\n",
    "    def begin_state(self, batch_size, device):\n",
    "        if not isinstance(self.rnn, nn.LSTM):\n",
    "            return torch.zeros((self.num_directions * self.rnn.num_layers, batch_size, self.num_hiddens), device=device)\n",
    "        else:\n",
    "            return (\n",
    "                torch.zeros((self.num_directions * self.rnn.num_layers, batch_size, self.num_hiddens), device=device),\n",
    "                torch.zeros((self.num_directions * self.rnn.num_layers, batch_size, self.num_hiddens), device=device)\n",
    "            )\n",
    "        "
   ]
  },
  {
   "cell_type": "code",
   "execution_count": 13,
   "metadata": {},
   "outputs": [
    {
     "data": {
      "text/plain": [
       "'time travellerrbbvlrorbb'"
      ]
     },
     "execution_count": 13,
     "metadata": {},
     "output_type": "execute_result"
    }
   ],
   "source": [
    "device = torch.device('cuda')\n",
    "net = RNNModel(rnn_layer, vocab_size=len(vocab))\n",
    "net = net.to(device)\n",
    "myd2l.predict('time traveller', 10, net, vocab, device)"
   ]
  },
  {
   "cell_type": "code",
   "execution_count": 14,
   "metadata": {},
   "outputs": [
    {
     "name": "stdout",
     "output_type": "stream",
     "text": [
      "epoch 10, perplexity 11.4\n",
      "time traveller an an an an an an an an an an an an an an an an a\n",
      "epoch 20, perplexity 9.3\n",
      "time travellere the the the the the the the the the the the the \n",
      "epoch 30, perplexity 8.4\n",
      "time traveller and the mere the that in this the that in this th\n",
      "epoch 40, perplexity 8.0\n",
      "time traveller and the the that an and the mere the that and the\n",
      "epoch 50, perplexity 7.3\n",
      "time traveller the this the thime simens on the the the the the \n",
      "epoch 60, perplexity 6.8\n",
      "time traveller the thine dimensions and there in the thate the t\n",
      "epoch 70, perplexity 6.5\n",
      "time traveller and thry in this beat ano the the thisg the gidit\n",
      "epoch 80, perplexity 5.5\n",
      "time traveller that is the wist another dimensions and the at in\n",
      "epoch 90, perplexity 4.6\n",
      "time traveller thice and there wis thise dimension thed the prom\n",
      "epoch 100, perplexity 3.8\n",
      "time travellery and the thane thay send sind aid as shallatlly r\n",
      "epoch 110, perplexity 3.2\n",
      "time travellerit sou and the tore troved the meding st eal othe \n",
      "epoch 120, perplexity 2.9\n",
      "time travellerit soughti be aroughe dif they thisk ding th te th\n",
      "epoch 130, perplexity 2.4\n",
      "time traveller but nou have to komman the ghat he mankea fore wh\n",
      "epoch 140, perplexity 2.2\n",
      "time travelleryou can save the manical manthat in time tore and \n",
      "epoch 150, perplexity 2.0\n",
      "time traveller frous d war and to becand the medical man anduthe\n",
      "epoch 160, perplexity 2.0\n",
      "time traveller brtante in aid tincingather have er a sag wall ca\n",
      "epoch 170, perplexity 1.8\n",
      "time travelleryour ara mont foula dem taceendin y mevery the fio\n",
      "epoch 180, perplexity 1.8\n",
      "time traveller trocuided tom thack an the patter than ther attee\n",
      "epoch 190, perplexity 1.7\n",
      "time traveller ffrentwo le sain time and asthatthe that he mavel\n",
      "epoch 200, perplexity 1.6\n",
      "time traveller proceeded any oferead f treveraton thonethit as c\n",
      "epoch 210, perplexity 1.6\n",
      "time travellerit s against reason said filbycas oond and that th\n",
      "epoch 220, perplexity 1.5\n",
      "time travellerit sought e round mine so there thing ste gratln i\n",
      "epoch 230, perplexity 1.5\n",
      "time travellerit s against reason said filby in as ald have a li\n",
      "epoch 240, perplexity 1.5\n",
      "time traveller the time travellerit tour comerea y areel whing t\n",
      "epoch 250, perplexity 1.5\n",
      "time traveller proceeded anyreal bod move a out an ver cerdancer\n",
      "epoch 260, perplexity 1.4\n",
      "time traveller freenthan fourt of mome ane thing the time travel\n",
      "epoch 270, perplexity 1.5\n",
      "time travellericale pravew thace way along the willy wougus tory\n",
      "epoch 280, perplexity 1.4\n",
      "time traveller but now you began tice astious allathe this toumt\n",
      "epoch 290, perplexity 1.4\n",
      "time traveller held in has ie thot he packetwer of hes iowerders\n",
      "epoch 300, perplexity 1.4\n",
      "time travellerit would be remarkably convenient for the historia\n",
      "epoch 310, perplexity 1.4\n",
      "time traveller proceeded anyreal body must have extentifofrt you\n",
      "epoch 320, perplexity 1.4\n",
      "time traveller furenteand why candatwerthel there wire alkngwtin\n",
      "epoch 330, perplexity 1.4\n",
      "time traveller after the same the very lips of homer and platwth\n",
      "epoch 340, perplexity 1.3\n",
      "time travellerit souldthe reamedinnt ofit thiseed arousting had \n",
      "epoch 350, perplexity 1.4\n",
      "time traveller for so it will be convenient to drever urlimess o\n",
      "epoch 360, perplexity 1.3\n",
      "time travellerit s against reason said filbycan a cubertar expee\n",
      "epoch 370, perplexity 1.3\n",
      "time traveller proceeded anyreal body must have ersene mither th\n",
      "epoch 380, perplexity 1.3\n",
      "time traveller proceeds onser curis so hav ge tomuth arate rimel\n",
      "epoch 390, perplexity 1.3\n",
      "time traveller fure in and direl thice whing tole gasthe fourth \n",
      "epoch 400, perplexity 1.3\n",
      "time travelleryouread moverea thas isee rmit you to in aly thith\n",
      "epoch 410, perplexity 1.3\n",
      "time travellerit s against reason said filbycan a cube that soth\n",
      "epoch 420, perplexity 1.3\n",
      "time traveller after the payserequired for the procencedilyyceet\n",
      "epoch 430, perplexity 1.3\n",
      "time travellerit s against reason said filbycan a cubesthe thoul\n",
      "epoch 440, perplexity 1.4\n",
      "time travelleris woulbr a oust was go the got said the psycholog\n",
      "epoch 450, perplexity 1.3\n",
      "time traveller bute back folrighto is imertacexacteli htericheie\n",
      "epoch 460, perplexity 1.3\n",
      "time travellerit s agasmed aid and they in pryplyouthung hed wou\n",
      "epoch 470, perplexity 1.3\n",
      "time traveller brece dice dide wion and theseod bigatinithereste\n",
      "epoch 480, perplexity 1.3\n",
      "time traveller held in his nanthet there are really four dimensi\n",
      "epoch 490, perplexity 1.3\n",
      "time traveller pale aso beedsoresthas soun that olithas in thati\n",
      "epoch 500, perplexity 1.3\n",
      "time traveller of crest hise and why cantanked mathof orithe sor\n"
     ]
    },
    {
     "data": {
      "image/png": "[encoded data removed]",
      "text/plain": [
       "<Figure size 500x250 with 1 Axes>"
      ]
     },
     "metadata": {},
     "output_type": "display_data"
    },
    {
     "name": "stdout",
     "output_type": "stream",
     "text": [
      "perplexity 1.3, 300830.6 examples/sec on cuda\n",
      "time traveller of crest hise and why cantanked mathof orithe sor\n",
      "traveller aus chanl dow a sovisthes thin the gote brover st\n"
     ]
    }
   ],
   "source": [
    "num_epochs, lr = 500, 1\n",
    "myd2l.train_lm(net, train_iter, vocab, lr, num_epochs, device)"
   ]
  },
  {
   "cell_type": "code",
   "execution_count": null,
   "metadata": {},
   "outputs": [],
   "source": []
  }
 ],
 "metadata": {
  "kernelspec": {
   "display_name": "pytorch",
   "language": "python",
   "name": "python3"
  },
  "language_info": {
   "codemirror_mode": {
    "name": "ipython",
    "version": 3
   },
   "file_extension": ".py",
   "mimetype": "text/x-python",
   "name": "python",
   "nbconvert_exporter": "python",
   "pygments_lexer": "ipython3",
   "version": "3.10.15"
  }
 },
 "nbformat": 4,
 "nbformat_minor": 2
}
