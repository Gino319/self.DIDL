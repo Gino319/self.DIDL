{
 "cells": [
  {
   "cell_type": "code",
   "execution_count": 2,
   "id": "af67977e",
   "metadata": {},
   "outputs": [],
   "source": [
    "import torch\n",
    "import numpy"
   ]
  },
  {
   "cell_type": "markdown",
   "id": "47aa6a62",
   "metadata": {},
   "source": [
    "### 2.1.1 数据创建"
   ]
  },
  {
   "cell_type": "code",
   "execution_count": 4,
   "id": "39a773b1",
   "metadata": {},
   "outputs": [
    {
     "data": {
      "text/plain": [
       "tensor([ 0,  1,  2,  3,  4,  5,  6,  7,  8,  9, 10, 11])"
      ]
     },
     "execution_count": 4,
     "metadata": {},
     "output_type": "execute_result"
    }
   ],
   "source": [
    "x = torch.arange(12)\n",
    "x"
   ]
  },
  {
   "cell_type": "code",
   "execution_count": 5,
   "id": "127bfb96",
   "metadata": {},
   "outputs": [
    {
     "data": {
      "text/plain": [
       "torch.Size([12])"
      ]
     },
     "execution_count": 5,
     "metadata": {},
     "output_type": "execute_result"
    }
   ],
   "source": [
    "x.shape"
   ]
  },
  {
   "cell_type": "code",
   "execution_count": 8,
   "id": "5fdaa8f8",
   "metadata": {},
   "outputs": [
    {
     "data": {
      "text/plain": [
       "12"
      ]
     },
     "execution_count": 8,
     "metadata": {},
     "output_type": "execute_result"
    }
   ],
   "source": [
    "x.numel()"
   ]
  },
  {
   "cell_type": "code",
   "execution_count": 13,
   "id": "9ca4e619",
   "metadata": {},
   "outputs": [
    {
     "name": "stdout",
     "output_type": "stream",
     "text": [
      "tensor([[ 0,  1,  2,  3],\n",
      "        [ 4,  5,  6,  7],\n",
      "        [ 8,  9, 10, 11]])\n",
      "torch.Size([3, 4])\n",
      "12\n"
     ]
    }
   ],
   "source": [
    "x = x.reshape(3, 4)\n",
    "print(x)\n",
    "print(x.shape)\n",
    "print(x.numel())"
   ]
  },
  {
   "cell_type": "code",
   "execution_count": 14,
   "id": "0d6638a9",
   "metadata": {},
   "outputs": [
    {
     "name": "stdout",
     "output_type": "stream",
     "text": [
      "tensor([[ 0,  1,  2,  3,  4,  5],\n",
      "        [ 6,  7,  8,  9, 10, 11]])\n",
      "torch.Size([2, 6])\n",
      "12\n"
     ]
    }
   ],
   "source": [
    "x = x.reshape(-1, 6)\n",
    "print(x)\n",
    "print(x.shape)\n",
    "print(x.numel())"
   ]
  },
  {
   "cell_type": "code",
   "execution_count": 17,
   "id": "3d6846f7",
   "metadata": {},
   "outputs": [
    {
     "data": {
      "text/plain": [
       "tensor([[[1., 1., 1., 1.],\n",
       "         [1., 1., 1., 1.],\n",
       "         [1., 1., 1., 1.]],\n",
       "\n",
       "        [[1., 1., 1., 1.],\n",
       "         [1., 1., 1., 1.],\n",
       "         [1., 1., 1., 1.]]])"
      ]
     },
     "execution_count": 17,
     "metadata": {},
     "output_type": "execute_result"
    }
   ],
   "source": [
    "torch.ones(2, 3, 4)"
   ]
  },
  {
   "cell_type": "code",
   "execution_count": 18,
   "id": "5ded1842",
   "metadata": {},
   "outputs": [
    {
     "data": {
      "text/plain": [
       "tensor([[[-1.1950,  0.0262,  1.2234, -1.6883],\n",
       "         [-1.7482,  1.1879, -2.5026, -0.7040],\n",
       "         [-1.2211, -0.8370, -0.6136, -0.8608]],\n",
       "\n",
       "        [[-1.5433, -1.3873,  0.6442, -1.9813],\n",
       "         [ 0.0477,  0.0305,  0.3362,  0.2153],\n",
       "         [ 0.6336,  1.6555,  1.2176,  1.6208]]])"
      ]
     },
     "execution_count": 18,
     "metadata": {},
     "output_type": "execute_result"
    }
   ],
   "source": [
    "# 均值为0，标准差为1的随机数，即满足标准高斯分布\n",
    "torch.randn(2, 3, 4)"
   ]
  },
  {
   "cell_type": "code",
   "execution_count": 19,
   "id": "f893867a",
   "metadata": {},
   "outputs": [
    {
     "data": {
      "text/plain": [
       "tensor([[1, 2, 3],\n",
       "        [2, 1, 3],\n",
       "        [3, 1, 2]])"
      ]
     },
     "execution_count": 19,
     "metadata": {},
     "output_type": "execute_result"
    }
   ],
   "source": [
    "torch.tensor([[1, 2, 3], [2, 1, 3], [3, 1, 2]])"
   ]
  },
  {
   "cell_type": "markdown",
   "id": "6ec9c724",
   "metadata": {},
   "source": [
    "### 2.1.2 运算符"
   ]
  },
  {
   "cell_type": "code",
   "execution_count": 20,
   "id": "e4939c6c",
   "metadata": {},
   "outputs": [
    {
     "data": {
      "text/plain": [
       "(tensor([ 3.,  4.,  6., 10.]),\n",
       " tensor([-1.,  0.,  2.,  6.]),\n",
       " tensor([ 2.,  4.,  8., 16.]),\n",
       " tensor([0.5000, 1.0000, 2.0000, 4.0000]),\n",
       " tensor([ 1.,  4., 16., 64.]))"
      ]
     },
     "execution_count": 20,
     "metadata": {},
     "output_type": "execute_result"
    }
   ],
   "source": [
    "# 以下运算均为按位运算\n",
    "x = torch.tensor([1.0, 2, 4, 8])\n",
    "y = torch.tensor([2, 2, 2, 2])\n",
    "x + y, x - y, x * y, x / y, x ** y"
   ]
  },
  {
   "cell_type": "code",
   "execution_count": 21,
   "id": "7ef90286",
   "metadata": {},
   "outputs": [
    {
     "data": {
      "text/plain": [
       "tensor([2.7183e+00, 7.3891e+00, 5.4598e+01, 2.9810e+03])"
      ]
     },
     "execution_count": 21,
     "metadata": {},
     "output_type": "execute_result"
    }
   ],
   "source": [
    "torch.exp(x)"
   ]
  },
  {
   "cell_type": "code",
   "execution_count": 48,
   "id": "aabf461d",
   "metadata": {},
   "outputs": [
    {
     "data": {
      "text/plain": [
       "(tensor([[ 0.0000,  1.0000,  2.0000,  3.0000],\n",
       "         [ 4.0000,  5.0000,  6.0000,  7.0000],\n",
       "         [ 8.0000,  9.0000, 10.0000, 11.0000],\n",
       "         [ 2.0000,  1.0000,  4.0000,  3.0000],\n",
       "         [ 1.0000,  2.0000,  3.0000,  4.0000],\n",
       "         [ 4.0000,  3.0000,  2.0000,  1.0000],\n",
       "         [-1.6277, -0.1030, -1.4223, -0.1876],\n",
       "         [-0.3375, -0.0529,  0.4619,  1.1018],\n",
       "         [-0.8477,  1.9807, -0.0406,  0.3773]]),\n",
       " tensor([[ 0.0000,  1.0000,  2.0000,  3.0000,  2.0000,  1.0000,  4.0000,  3.0000,\n",
       "          -1.6277, -0.1030, -1.4223, -0.1876],\n",
       "         [ 4.0000,  5.0000,  6.0000,  7.0000,  1.0000,  2.0000,  3.0000,  4.0000,\n",
       "          -0.3375, -0.0529,  0.4619,  1.1018],\n",
       "         [ 8.0000,  9.0000, 10.0000, 11.0000,  4.0000,  3.0000,  2.0000,  1.0000,\n",
       "          -0.8477,  1.9807, -0.0406,  0.3773]]))"
      ]
     },
     "execution_count": 48,
     "metadata": {},
     "output_type": "execute_result"
    }
   ],
   "source": [
    "# 张量连结\n",
    "X = torch.arange(12, dtype=torch.float32).reshape(3,4)\n",
    "Y = torch.tensor([[2.0, 1, 4, 3], [1, 2, 3, 4], [4, 3, 2, 1]])\n",
    "Z = torch.randn(12).reshape(3, 4)\n",
    "torch.cat((X, Y, Z), dim=0), torch.cat((X, Y, Z), dim=1)"
   ]
  },
  {
   "cell_type": "code",
   "execution_count": 56,
   "id": "01de889e",
   "metadata": {},
   "outputs": [
    {
     "data": {
      "text/plain": [
       "(tensor([[100,   1,   2,   3],\n",
       "         [  4,   5,   6,   7],\n",
       "         [  8,   9,  10,  11]]),\n",
       " tensor([[2., 1., 4., 3.],\n",
       "         [1., 2., 3., 4.],\n",
       "         [4., 3., 2., 1.]]),\n",
       " tensor([[False,  True, False,  True],\n",
       "         [False, False, False, False],\n",
       "         [False, False, False, False]]),\n",
       " tensor([[ True,  True, False,  True],\n",
       "         [ True,  True,  True,  True],\n",
       "         [ True,  True,  True,  True]]),\n",
       " tensor([[False, False,  True, False],\n",
       "         [False, False, False, False],\n",
       "         [False, False, False, False]]))"
      ]
     },
     "execution_count": 56,
     "metadata": {},
     "output_type": "execute_result"
    }
   ],
   "source": [
    "X, Y, X == Y, X >= Y, X < Y"
   ]
  },
  {
   "cell_type": "code",
   "execution_count": 29,
   "id": "73e5c1cf",
   "metadata": {},
   "outputs": [
    {
     "data": {
      "text/plain": [
       "(tensor([[ 0.,  1.,  2.,  3.],\n",
       "         [ 4.,  5.,  6.,  7.],\n",
       "         [ 8.,  9., 10., 11.]]),\n",
       " tensor([12., 15., 18., 21.]),\n",
       " tensor([ 6., 22., 38.]),\n",
       " tensor(66.))"
      ]
     },
     "execution_count": 29,
     "metadata": {},
     "output_type": "execute_result"
    }
   ],
   "source": [
    "X, X.sum(dim=0), X.sum(dim=1), X.sum()"
   ]
  },
  {
   "cell_type": "markdown",
   "id": "510f5159",
   "metadata": {},
   "source": [
    "### 2.1.3 广播机制\n",
    "当张量维度不同时，通过复制部分数据以扩展维度，从而实现按位计算"
   ]
  },
  {
   "cell_type": "code",
   "execution_count": 3,
   "id": "a32fe2ed",
   "metadata": {},
   "outputs": [
    {
     "data": {
      "text/plain": [
       "(tensor([[0, 1],\n",
       "         [2, 3],\n",
       "         [4, 5]]),\n",
       " tensor([[0, 1]]))"
      ]
     },
     "execution_count": 3,
     "metadata": {},
     "output_type": "execute_result"
    }
   ],
   "source": [
    "# 三维会报错\n",
    "a = torch.arange(6).reshape(3, 2)\n",
    "b = torch.arange(2).reshape(1, 2)\n",
    "a, b"
   ]
  },
  {
   "cell_type": "code",
   "execution_count": 4,
   "id": "0c9d0d58",
   "metadata": {},
   "outputs": [
    {
     "data": {
      "text/plain": [
       "tensor([[0, 2],\n",
       "        [2, 4],\n",
       "        [4, 6]])"
      ]
     },
     "execution_count": 4,
     "metadata": {},
     "output_type": "execute_result"
    }
   ],
   "source": [
    "a + b"
   ]
  },
  {
   "cell_type": "markdown",
   "id": "2b1ff007",
   "metadata": {},
   "source": [
    "### 2.1.4 索引和切片"
   ]
  },
  {
   "cell_type": "code",
   "execution_count": 32,
   "id": "8cbecfc4",
   "metadata": {},
   "outputs": [
    {
     "data": {
      "text/plain": [
       "(tensor([[ 0.,  1.,  2.,  3.],\n",
       "         [ 4.,  5.,  6.,  7.],\n",
       "         [ 8.,  9., 10., 11.]]),\n",
       " tensor([ 8.,  9., 10., 11.]),\n",
       " tensor([[ 4.,  5.,  6.,  7.],\n",
       "         [ 8.,  9., 10., 11.]]))"
      ]
     },
     "execution_count": 32,
     "metadata": {},
     "output_type": "execute_result"
    }
   ],
   "source": [
    "# X[-1]取最后一个元素，X[1:3]取索引1到2的元素\n",
    "X, X[-1], X[1:3]"
   ]
  },
  {
   "cell_type": "code",
   "execution_count": 34,
   "id": "f76511b9",
   "metadata": {},
   "outputs": [
    {
     "data": {
      "text/plain": [
       "tensor([[ 0.,  1.,  2.,  3.],\n",
       "        [ 4.,  5.,  9.,  7.],\n",
       "        [ 8.,  9., 10., 11.]])"
      ]
     },
     "execution_count": 34,
     "metadata": {},
     "output_type": "execute_result"
    }
   ],
   "source": [
    "X[1, 2] = 9\n",
    "X"
   ]
  },
  {
   "cell_type": "code",
   "execution_count": 35,
   "id": "19f37ab3",
   "metadata": {},
   "outputs": [
    {
     "data": {
      "text/plain": [
       "tensor([[12., 12., 12., 12.],\n",
       "        [12., 12., 12., 12.],\n",
       "        [ 8.,  9., 10., 11.]])"
      ]
     },
     "execution_count": 35,
     "metadata": {},
     "output_type": "execute_result"
    }
   ],
   "source": [
    "X[0:2, :] = 12\n",
    "X"
   ]
  },
  {
   "cell_type": "markdown",
   "id": "11cfcae3",
   "metadata": {},
   "source": [
    "### 2.1.5 节省内存\n",
    "运行一些操作可能会导致为新结果分配内存。 例如，如果我们用Y = X + Y，我们将取消引用Y指向的张量，而是指向新分配的内存处的张量"
   ]
  },
  {
   "cell_type": "code",
   "execution_count": 36,
   "id": "ec7b082d",
   "metadata": {},
   "outputs": [
    {
     "data": {
      "text/plain": [
       "False"
      ]
     },
     "execution_count": 36,
     "metadata": {},
     "output_type": "execute_result"
    }
   ],
   "source": [
    "# id()用来取内存中的特定位置\n",
    "before = id(Y)\n",
    "Y = X + Y\n",
    "before == id(Y)"
   ]
  },
  {
   "cell_type": "code",
   "execution_count": 37,
   "id": "dd323489",
   "metadata": {},
   "outputs": [
    {
     "data": {
      "text/plain": [
       "True"
      ]
     },
     "execution_count": 37,
     "metadata": {},
     "output_type": "execute_result"
    }
   ],
   "source": [
    "# 通过索引赋值来解决\n",
    "before = id(Y)\n",
    "Y[:] = X + Y\n",
    "before == id(Y)"
   ]
  },
  {
   "cell_type": "code",
   "execution_count": 38,
   "id": "c1e70177",
   "metadata": {},
   "outputs": [
    {
     "data": {
      "text/plain": [
       "True"
      ]
     },
     "execution_count": 38,
     "metadata": {},
     "output_type": "execute_result"
    }
   ],
   "source": [
    "# 通过运算符和=合成的运算符来解决\n",
    "before = id(Y)\n",
    "Y += X\n",
    "before == id(Y)"
   ]
  },
  {
   "cell_type": "markdown",
   "id": "62b1cd3e",
   "metadata": {},
   "source": [
    "### 2.1.6 转换为其他python对象"
   ]
  },
  {
   "cell_type": "code",
   "execution_count": 52,
   "id": "8e1084fd",
   "metadata": {},
   "outputs": [
    {
     "data": {
      "text/plain": [
       "(torch.Tensor, numpy.ndarray, torch.Tensor, torch.Tensor)"
      ]
     },
     "execution_count": 52,
     "metadata": {},
     "output_type": "execute_result"
    }
   ],
   "source": [
    "# 与numpy.ndarray相互转换\n",
    "X = torch.arange(12).reshape(3, 4)\n",
    "A = X.numpy() # 共享底层内存\n",
    "B = torch.from_numpy(A) # 共享底层内存\n",
    "C = torch.tensor(A) # 不共享底层内存\n",
    "type(X), type(A), type(B), type(C)"
   ]
  },
  {
   "cell_type": "code",
   "execution_count": 53,
   "id": "9eb5dfb4",
   "metadata": {},
   "outputs": [
    {
     "data": {
      "text/plain": [
       "(tensor([[100,   1,   2,   3],\n",
       "         [  4,   5,   6,   7],\n",
       "         [  8,   9,  10,  11]]),\n",
       " array([[100,   1,   2,   3],\n",
       "        [  4,   5,   6,   7],\n",
       "        [  8,   9,  10,  11]], dtype=int64),\n",
       " tensor([[100,   1,   2,   3],\n",
       "         [  4,   5,   6,   7],\n",
       "         [  8,   9,  10,  11]]),\n",
       " tensor([[ 0,  1,  2,  3],\n",
       "         [ 4,  5,  6,  7],\n",
       "         [ 8,  9, 10, 11]]))"
      ]
     },
     "execution_count": 53,
     "metadata": {},
     "output_type": "execute_result"
    }
   ],
   "source": [
    "# torch.Tensor.numpy()和torch.from_numpy(numpy.ndarray)方法会共享它们的底层内存，就地操作更改一个张量也会同时更改另一个张量\n",
    "A[0, 0] = 100\n",
    "X, A, B, C"
   ]
  },
  {
   "cell_type": "code",
   "execution_count": 54,
   "id": "c455bc4f",
   "metadata": {},
   "outputs": [
    {
     "data": {
      "text/plain": [
       "(tensor([3.5000]), 3.5, 3, 3.5)"
      ]
     },
     "execution_count": 54,
     "metadata": {},
     "output_type": "execute_result"
    }
   ],
   "source": [
    "# 大小为1的张量转换为python变量\n",
    "a = torch.tensor([3.5])\n",
    "a, a.item(), int(a), float(a)"
   ]
  }
 ],
 "metadata": {
  "kernelspec": {
   "display_name": "Python 3 (ipykernel)",
   "language": "python",
   "name": "python3"
  },
  "language_info": {
   "codemirror_mode": {
    "name": "ipython",
    "version": 3
   },
   "file_extension": ".py",
   "mimetype": "text/x-python",
   "name": "python",
   "nbconvert_exporter": "python",
   "pygments_lexer": "ipython3",
   "version": "3.11.5"
  }
 },
 "nbformat": 4,
 "nbformat_minor": 5
}
