{
 "cells": [
  {
   "cell_type": "code",
   "execution_count": 1,
   "id": "52ec7b45",
   "metadata": {},
   "outputs": [],
   "source": [
    "import torch\n",
    "from torch import nn\n",
    "from torch.nn import init\n",
    "import torch.optim as optim\n",
    "import torch.utils.data as Data\n",
    "import numpy as np\n",
    "import random"
   ]
  },
  {
   "cell_type": "code",
   "execution_count": 2,
   "id": "9e3f077f",
   "metadata": {},
   "outputs": [],
   "source": [
    "# 生成数据集\n",
    "num_inputs = 2\n",
    "num_examples = 1000\n",
    "true_w = [2, -3.4]\n",
    "true_b = 4.2\n",
    "features = torch.tensor(np.random.normal(0, 1, (num_examples, num_inputs)), dtype=torch.float)\n",
    "labels = true_w[0] * features[:, 0] + true_w[1] * features[:, 1] + true_b\n",
    "labels += torch.tensor(np.random.normal(0, 0.01, size=labels.size()), dtype=torch.float)"
   ]
  },
  {
   "cell_type": "code",
   "execution_count": 3,
   "id": "213c9dd7",
   "metadata": {},
   "outputs": [
    {
     "name": "stdout",
     "output_type": "stream",
     "text": [
      "tensor([[-0.9105, -1.4444],\n",
      "        [-1.3814,  0.1128],\n",
      "        [ 0.4903, -0.4180],\n",
      "        [ 0.3948, -0.1033],\n",
      "        [ 0.0717, -0.1322],\n",
      "        [-0.3644,  0.1312],\n",
      "        [ 0.9015, -0.7007],\n",
      "        [-1.7804, -1.5069],\n",
      "        [-2.0331,  0.0982],\n",
      "        [-0.6443,  0.1427]]) tensor([ 7.2874,  1.0476,  6.6009,  5.3322,  4.7912,  3.0228,  8.3861,  5.7467,\n",
      "        -0.2069,  2.4081])\n"
     ]
    }
   ],
   "source": [
    "# 读取数据\n",
    "batch_size = 10\n",
    "dataset = Data.TensorDataset(features, labels)\n",
    "data_iter = Data.DataLoader(dataset, batch_size, shuffle=True)\n",
    "\n",
    "for X, y in data_iter:\n",
    "    print(X, y)\n",
    "    break"
   ]
  },
  {
   "cell_type": "code",
   "execution_count": 4,
   "id": "91177bbb",
   "metadata": {},
   "outputs": [
    {
     "name": "stdout",
     "output_type": "stream",
     "text": [
      "LinearNet(\n",
      "  (linear): Linear(in_features=2, out_features=1, bias=True)\n",
      ")\n",
      "Parameter containing:\n",
      "tensor([[-0.0796, -0.6118]], requires_grad=True)\n",
      "Parameter containing:\n",
      "tensor([-0.2267], requires_grad=True)\n"
     ]
    }
   ],
   "source": [
    "# 定义模型\n",
    "class LinearNet(nn.Module):\n",
    "    def __init__(self, num_features):\n",
    "        super(LinearNet, self).__init__()\n",
    "        self.linear = nn.Linear(num_features, 1) #进2出1\n",
    "    \n",
    "    def forward(self, x):\n",
    "        y = self.linear(x)\n",
    "        return y\n",
    "\n",
    "net = LinearNet(num_inputs)\n",
    "print(net)\n",
    "\n",
    "# 通过net.parameters()查看可学习参数\n",
    "for param in net.parameters():\n",
    "    print(param)"
   ]
  },
  {
   "cell_type": "code",
   "execution_count": null,
   "id": "3c4b72b7",
   "metadata": {},
   "outputs": [],
   "source": [
    "# 使用容器类nn.Sequential\n",
    "# 写法1\n",
    "net = nn.Sequential(\n",
    "    nn.Linear(num_inputs, 1)\n",
    "    )"
   ]
  },
  {
   "cell_type": "code",
   "execution_count": 29,
   "id": "e44bb0c1",
   "metadata": {},
   "outputs": [],
   "source": [
    "# 写法2\n",
    "net = nn.Sequential()\n",
    "net.add_module('linear', nn.Linear(num_inputs, 1))"
   ]
  },
  {
   "cell_type": "code",
   "execution_count": 11,
   "id": "6352af7b",
   "metadata": {},
   "outputs": [
    {
     "name": "stdout",
     "output_type": "stream",
     "text": [
      "Parameter containing:\n",
      "tensor([[-0.0031,  0.0093]], requires_grad=True)\n",
      "Parameter containing:\n",
      "tensor([0.], requires_grad=True)\n"
     ]
    }
   ],
   "source": [
    "# 初始化模型参数\n",
    "init.normal_(net.linear.weight, mean=0, std=0.01)\n",
    "init.constant_(net.linear.bias, val=0)\n",
    "# net.linear.bias.data.fill_(0)\n",
    "\n",
    "for param in net.parameters():\n",
    "    print(param)"
   ]
  },
  {
   "cell_type": "code",
   "execution_count": 6,
   "id": "eb07e781",
   "metadata": {},
   "outputs": [],
   "source": [
    "# 定义损失函数\n",
    "loss = nn.MSELoss()"
   ]
  },
  {
   "cell_type": "code",
   "execution_count": 7,
   "id": "1d97821f",
   "metadata": {},
   "outputs": [
    {
     "name": "stdout",
     "output_type": "stream",
     "text": [
      "SGD (\n",
      "Parameter Group 0\n",
      "    dampening: 0\n",
      "    differentiable: False\n",
      "    foreach: None\n",
      "    fused: None\n",
      "    lr: 0.03\n",
      "    maximize: False\n",
      "    momentum: 0\n",
      "    nesterov: False\n",
      "    weight_decay: 0\n",
      ")\n"
     ]
    }
   ],
   "source": [
    "# 定义优化算法\n",
    "optimizer = optim.SGD(net.parameters(), lr=0.03)\n",
    "print(optimizer)"
   ]
  },
  {
   "cell_type": "code",
   "execution_count": null,
   "id": "01862896",
   "metadata": {},
   "outputs": [],
   "source": [
    "# 为不同子网络设置不同学习率\n",
    "optimizer = optim.SGD([{'params': net.subnet1.parameters()}\n",
    "                       {'params': net.subnet2.parameters(), 'lr': 0.01}\n",
    "                      ], lr = 0.03)"
   ]
  },
  {
   "cell_type": "code",
   "execution_count": null,
   "id": "cd98571e",
   "metadata": {},
   "outputs": [],
   "source": [
    "# 调整损失函数，也可以直接建立一个新的optimizer来调整\n",
    "for param_group in optimazer.param_groups:\n",
    "    param_group['lr'] *= 0.1"
   ]
  },
  {
   "cell_type": "code",
   "execution_count": 12,
   "id": "7b4fa8a6",
   "metadata": {},
   "outputs": [
    {
     "name": "stdout",
     "output_type": "stream",
     "text": [
      "epoch  1, loss  0.000113\n",
      "epoch  2, loss  0.000183\n",
      "epoch  3, loss  0.000086\n"
     ]
    }
   ],
   "source": [
    "# 训练模型\n",
    "num_epoch = 3\n",
    "for epoch in range(num_epoch):\n",
    "    for X, y in data_iter:\n",
    "        output = net(X)\n",
    "        l = loss(output, y.view(-1, 1)) # 注意这里要调整y的维度\n",
    "        optimizer.zero_grad()\n",
    "        l.backward()\n",
    "        optimizer.step()\n",
    "    \n",
    "    print(f'epoch {epoch + 1: d}, loss {l: f}')"
   ]
  },
  {
   "cell_type": "code",
   "execution_count": 13,
   "id": "8d3d400f",
   "metadata": {},
   "outputs": [
    {
     "name": "stdout",
     "output_type": "stream",
     "text": [
      "[2, -3.4] Parameter containing:\n",
      "tensor([[ 2.0005, -3.3995]], requires_grad=True)\n",
      "4.2 Parameter containing:\n",
      "tensor([4.2003], requires_grad=True)\n"
     ]
    }
   ],
   "source": [
    "# 对比参数\n",
    "print(true_w, net.linear.weight)\n",
    "print(true_b, net.linear.bias)"
   ]
  },
  {
   "cell_type": "code",
   "execution_count": null,
   "id": "df2cc73b",
   "metadata": {},
   "outputs": [],
   "source": []
  }
 ],
 "metadata": {
  "kernelspec": {
   "display_name": "Python 3 (ipykernel)",
   "language": "python",
   "name": "python3"
  },
  "language_info": {
   "codemirror_mode": {
    "name": "ipython",
    "version": 3
   },
   "file_extension": ".py",
   "mimetype": "text/x-python",
   "name": "python",
   "nbconvert_exporter": "python",
   "pygments_lexer": "ipython3",
   "version": "3.11.5"
  }
 },
 "nbformat": 4,
 "nbformat_minor": 5
}
