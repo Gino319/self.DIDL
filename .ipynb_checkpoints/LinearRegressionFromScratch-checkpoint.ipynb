{
 "cells": [
  {
   "cell_type": "code",
   "execution_count": 3,
   "id": "a2de9f5e",
   "metadata": {},
   "outputs": [],
   "source": [
    "%matplotlib inline\n",
    "import torch\n",
    "from IPython import display\n",
    "from matplotlib import pyplot as plt\n",
    "import numpy as np\n",
    "import random"
   ]
  },
  {
   "cell_type": "code",
   "execution_count": 22,
   "id": "6ab3f562",
   "metadata": {},
   "outputs": [
    {
     "data": {
      "image/png": "[encoded data removed]",
      "text/plain": [
       "<Figure size 600x300 with 1 Axes>"
      ]
     },
     "metadata": {},
     "output_type": "display_data"
    }
   ],
   "source": [
    "# 定义数据集\n",
    "num_inputs = 2\n",
    "num_examples = 1000\n",
    "true_w = [2, -3.4]\n",
    "true_b = 4.2\n",
    "features = torch.from_numpy(np.random.normal(0, 1, (num_examples, num_inputs)))\n",
    "labels = true_w[0] * features[:, 0] + true_w[1] * features[:, 1] + true_b\n",
    "labels += torch.from_numpy(np.random.normal(0, 0.01, size=labels.size()))\n",
    "\n",
    "plt.figure(figsize=(6, 3))\n",
    "plt.scatter(features[:, 1].numpy(), labels.numpy(), s=5)\n",
    "plt.show()"
   ]
  },
  {
   "cell_type": "code",
   "execution_count": 15,
   "id": "58eb51df",
   "metadata": {},
   "outputs": [
    {
     "name": "stdout",
     "output_type": "stream",
     "text": [
      "tensor([[ 0.9038, -0.4809],\n",
      "        [-1.1938,  0.3565],\n",
      "        [ 0.8226, -1.4061],\n",
      "        [ 0.1741, -0.8955],\n",
      "        [ 0.6769,  0.2389],\n",
      "        [-0.2506, -1.2647],\n",
      "        [ 1.5135,  0.3574],\n",
      "        [ 1.6474,  0.6085],\n",
      "        [ 1.3792, -0.5075],\n",
      "        [-0.7143, -0.9568]], dtype=torch.float64) tensor([ 7.6346,  0.6111, 10.6147,  7.6103,  4.7313,  8.0172,  6.0228,  5.4504,\n",
      "         8.6830,  6.0293], dtype=torch.float64)\n"
     ]
    }
   ],
   "source": [
    "# 读取数据\n",
    "def data_iter(batch_size, features, labels):\n",
    "    num_examples = len(features)\n",
    "    indices = list(range(num_examples))\n",
    "    random.shuffle(indices)\n",
    "    \n",
    "    for i in range(0, num_examples, batch_size):\n",
    "        j = torch.LongTensor(indices[i : min(i + batch_size, num_examples)])\n",
    "        yield features.index_select(0, j), labels.index_select(0, j)\n",
    "\n",
    "batch_size = 10\n",
    "for X, y in data_iter(batch, features, labels):\n",
    "    print(X, y)\n",
    "    break"
   ]
  },
  {
   "cell_type": "code",
   "execution_count": 33,
   "id": "b1b4d112",
   "metadata": {},
   "outputs": [],
   "source": [
    "# 初始化模型参数\n",
    "w = torch.tensor(np.random.normal(0, 1, (num_inputs, 1)), dtype=torch.double, requires_grad=True)\n",
    "b = torch.zeros([1], requires_grad=True, dtype=torch.double)"
   ]
  },
  {
   "cell_type": "code",
   "execution_count": 25,
   "id": "9b8d57cf",
   "metadata": {},
   "outputs": [],
   "source": [
    "# 定义模型\n",
    "def linreg(X, w, b):\n",
    "    return torch.mm(X, w) + b"
   ]
  },
  {
   "cell_type": "code",
   "execution_count": 29,
   "id": "f7bb4c94",
   "metadata": {},
   "outputs": [],
   "source": [
    "# 定义损失函数\n",
    "def squared_loss(y_hat, y):\n",
    "    return (y_hat - y.view(y_hat.size())) ** 2 / 2"
   ]
  },
  {
   "cell_type": "code",
   "execution_count": 27,
   "id": "0caa3209",
   "metadata": {},
   "outputs": [],
   "source": [
    "# 定义优化算法\n",
    "def sgd(params, lr, batch_size):\n",
    "    for param in params:\n",
    "        param.data -= lr * param.grad / batch_size"
   ]
  },
  {
   "cell_type": "code",
   "execution_count": 34,
   "id": "5ce24470",
   "metadata": {},
   "outputs": [
    {
     "name": "stdout",
     "output_type": "stream",
     "text": [
      "epoch 1, loss 0.039650\n",
      "epoch 2, loss 0.000144\n",
      "epoch 3, loss 0.000050\n"
     ]
    }
   ],
   "source": [
    "# 训练模型\n",
    "lr = 0.03\n",
    "num_epochs = 3\n",
    "\n",
    "for epoch in range(num_epochs):\n",
    "    for X, y in data_iter(batch_size, features, labels):\n",
    "        l = squared_loss(linreg(X, w, b), y).sum()\n",
    "        l.backward()\n",
    "        sgd([w, b], lr, batch_size)\n",
    "        \n",
    "        w.grad.data.zero_()\n",
    "        b.grad.data.zero_()\n",
    "    \n",
    "    train_l = squared_loss(linreg(features, w, b), labels)\n",
    "    print(f'epoch {epoch + 1:d}, loss {train_l.mean().item():f}')"
   ]
  },
  {
   "cell_type": "code",
   "execution_count": 38,
   "id": "0a4402ab",
   "metadata": {},
   "outputs": [
    {
     "name": "stdout",
     "output_type": "stream",
     "text": [
      "[2, -3.4] tensor([[ 1.9988],\n",
      "        [-3.3991]], dtype=torch.float64, requires_grad=True)\n",
      "4.2 tensor([4.2001], dtype=torch.float64, requires_grad=True)\n"
     ]
    }
   ],
   "source": [
    "# 比较参数\n",
    "print(true_w, w)\n",
    "print(true_b, b)"
   ]
  },
  {
   "cell_type": "code",
   "execution_count": null,
   "id": "88320e3d",
   "metadata": {},
   "outputs": [],
   "source": []
  }
 ],
 "metadata": {
  "kernelspec": {
   "display_name": "Python 3 (ipykernel)",
   "language": "python",
   "name": "python3"
  },
  "language_info": {
   "codemirror_mode": {
    "name": "ipython",
    "version": 3
   },
   "file_extension": ".py",
   "mimetype": "text/x-python",
   "name": "python",
   "nbconvert_exporter": "python",
   "pygments_lexer": "ipython3",
   "version": "3.11.5"
  }
 },
 "nbformat": 4,
 "nbformat_minor": 5
}
