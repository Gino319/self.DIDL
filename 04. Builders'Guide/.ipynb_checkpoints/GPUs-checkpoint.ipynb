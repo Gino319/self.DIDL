{
 "cells": [
  {
   "cell_type": "code",
   "execution_count": 2,
   "id": "665a0ec7",
   "metadata": {},
   "outputs": [],
   "source": [
    "import torch\n",
    "import torch.nn as nn\n",
    "import time"
   ]
  },
  {
   "cell_type": "code",
   "execution_count": null,
   "id": "8a27c2f4",
   "metadata": {},
   "outputs": [],
   "source": [
    "X = torch.randn((int(1e5), int(1e5)))\n",
    "Y = torch.randn((int(1e5), int(1e5)))\n",
    "\n",
    "# start = time.time()\n",
    "# torch.mm(X, Y)\n",
    "# print(time.time() - start)\n",
    "\n",
    "device = torch.device('cuda') if torch.cuda.is_available() else torch.device('cpu')\n",
    "X.to(device)\n",
    "Y.to(device)\n",
    "\n",
    "start = time.time()\n",
    "torch.mm(X, Y)\n",
    "print(time.time() - start)"
   ]
  },
  {
   "cell_type": "code",
   "execution_count": null,
   "id": "9908ccc6",
   "metadata": {},
   "outputs": [],
   "source": []
  },
  {
   "cell_type": "code",
   "execution_count": null,
   "id": "6bd31be9",
   "metadata": {},
   "outputs": [],
   "source": []
  },
  {
   "cell_type": "code",
   "execution_count": null,
   "id": "e9fb58f8",
   "metadata": {},
   "outputs": [],
   "source": []
  }
 ],
 "metadata": {
  "kernelspec": {
   "display_name": "pytorch",
   "language": "python",
   "name": "pytorch"
  },
  "language_info": {
   "codemirror_mode": {
    "name": "ipython",
    "version": 3
   },
   "file_extension": ".py",
   "mimetype": "text/x-python",
   "name": "python",
   "nbconvert_exporter": "python",
   "pygments_lexer": "ipython3",
   "version": "3.10.15"
  }
 },
 "nbformat": 4,
 "nbformat_minor": 5
}
