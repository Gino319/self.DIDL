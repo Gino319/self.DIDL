{
 "cells": [
  {
   "cell_type": "code",
   "execution_count": 13,
   "id": "1c29ad66",
   "metadata": {},
   "outputs": [
    {
     "name": "stdout",
     "output_type": "stream",
     "text": [
      "tensor([[-1.4206, -0.2444, -0.6904, -0.2298],\n",
      "        [-0.3227,  0.2754, -0.1739, -0.7486],\n",
      "        [-0.1886, -1.4495, -1.1214,  0.6101],\n",
      "        [-0.0921, -1.1953,  0.7416,  0.3623],\n",
      "        [ 0.5132,  0.0405,  0.3808,  0.5667]])\n",
      "tensor([[ 3.7625,  2.4491,  2.7370],\n",
      "        [ 0.3383,  1.5300,  0.2912],\n",
      "        [ 0.0647, -0.3227, -1.6080],\n",
      "        [-0.0858,  1.0766, -2.4401],\n",
      "        [ 0.5617,  1.0075,  0.9118]], grad_fn=<CopySlices>)\n"
     ]
    }
   ],
   "source": [
    "# 设计一个接受输入并计算张量降维的层\n",
    "\n",
    "import torch\n",
    "import torch.nn as nn\n",
    "\n",
    "class TensorReductionLayer(nn.Module):\n",
    "    def __init__(self, n_inputs, n_outputs):\n",
    "        super().__init__()\n",
    "        self.weight = nn.Parameter(torch.randn([n_outputs, n_inputs, n_inputs]))\n",
    "    \n",
    "    def forward(self, x):\n",
    "        batch_size = x.shape[0]\n",
    "        y = torch.zeros([batch_size, n_outputs], dtype=torch.float32)\n",
    "        \n",
    "        for b in range(batch_size):\n",
    "            for k in range(n_outputs):\n",
    "                y[b, k] = torch.mm(x[b].view([1, -1]), torch.mm(self.weight[k], x[b].view([-1, 1])))\n",
    "        \n",
    "        return y\n",
    "    \n",
    "n_inputs, n_outputs = 4, 3\n",
    "layer = TensorReductionLayer(n_inputs, n_outputs)\n",
    "\n",
    "x = torch.randn([5, n_inputs])\n",
    "y = layer(x)\n",
    "print(x)\n",
    "print(y)"
   ]
  },
  {
   "cell_type": "code",
   "execution_count": 14,
   "id": "00637b1e",
   "metadata": {},
   "outputs": [
    {
     "name": "stdout",
     "output_type": "stream",
     "text": [
      "tensor([[ 0.1782,  0.1369,  0.0417, -1.7692, -0.8856, -0.2775, -0.4760,  0.6327],\n",
      "        [ 1.4307,  0.3900,  0.8136,  0.3715,  0.1592,  0.0591,  0.6442,  0.8247],\n",
      "        [-1.1185, -0.3950, -0.1253, -0.4581, -0.5923,  1.0534,  0.8306, -1.3233],\n",
      "        [-0.4406,  0.2232,  1.6072, -0.4072, -0.3573, -0.3237, -0.0456,  0.1531],\n",
      "        [ 1.0388,  0.7428, -0.6037,  0.4988,  2.0147, -0.3290,  0.3865,  1.3041]])\n",
      "tensor([[-2.4187+0.0000j,  3.0553+0.8877j, -0.2732-0.9959j, -0.9276+1.9231j,\n",
      "          0.1354+0.0000j],\n",
      "        [ 4.6930+0.0000j,  1.8260-0.0829j,  0.1322+0.7470j,  0.7170+0.2559j,\n",
      "          1.4024+0.0000j],\n",
      "        [-2.1284+0.0000j, -2.1622+1.3683j, -2.4161-2.4397j,  1.1097-0.5435j,\n",
      "          0.1176+0.0000j],\n",
      "        [ 0.4091+0.0000j,  0.6997-1.6434j, -2.3595-0.1536j, -0.8663+1.6623j,\n",
      "          1.1182+0.0000j],\n",
      "        [ 5.0530+0.0000j,  0.3514+0.8016j,  3.2707+1.3890j, -2.3032-1.1786j,\n",
      "          0.6196+0.0000j]])\n"
     ]
    }
   ],
   "source": [
    "# 设计一个返回输入数据的傅立叶系数前半部分的层\n",
    "\n",
    "import torch\n",
    "import torch.nn as nn\n",
    "\n",
    "class FourierTransformLayer(nn.Module):\n",
    "    def __init__(self):\n",
    "        super(FourierTransformLayer, self).__init__()\n",
    "\n",
    "    def forward(self, x):\n",
    "        fft_result = torch.fft.fft(x)\n",
    "        half_size = fft_result.size(-1) // 2 + 1\n",
    "        return fft_result[..., :half_size]\n",
    "\n",
    "layer = FourierTransformLayer()\n",
    "    \n",
    "x = torch.randn(5, 8)\n",
    "y = layer(x)\n",
    "print(x)\n",
    "print(y)"
   ]
  },
  {
   "cell_type": "code",
   "execution_count": 18,
   "id": "0998991a",
   "metadata": {},
   "outputs": [
    {
     "data": {
      "text/plain": [
       "1"
      ]
     },
     "execution_count": 18,
     "metadata": {},
     "output_type": "execute_result"
    }
   ],
   "source": [
    "torch.cuda.device_count()"
   ]
  },
  {
   "cell_type": "code",
   "execution_count": null,
   "id": "d07cb770",
   "metadata": {},
   "outputs": [],
   "source": []
  }
 ],
 "metadata": {
  "kernelspec": {
   "display_name": "pytorch",
   "language": "python",
   "name": "pytorch"
  },
  "language_info": {
   "codemirror_mode": {
    "name": "ipython",
    "version": 3
   },
   "file_extension": ".py",
   "mimetype": "text/x-python",
   "name": "python",
   "nbconvert_exporter": "python",
   "pygments_lexer": "ipython3",
   "version": "3.10.15"
  }
 },
 "nbformat": 4,
 "nbformat_minor": 5
}
