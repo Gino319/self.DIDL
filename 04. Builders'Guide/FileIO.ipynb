{
 "cells": [
  {
   "cell_type": "code",
   "execution_count": 3,
   "id": "ee91704d",
   "metadata": {},
   "outputs": [],
   "source": [
    "import torch\n",
    "import torch.nn as nn\n",
    "import torch.nn.functional as F"
   ]
  },
  {
   "cell_type": "code",
   "execution_count": 11,
   "id": "9a7c84df",
   "metadata": {},
   "outputs": [
    {
     "name": "stdout",
     "output_type": "stream",
     "text": [
      "tensor([1, 2, 3])\n",
      "tensor([1, 2, 3]) tensor([0., 0., 0., 0.])\n",
      "{'x': tensor([1, 2, 3]), 'y': tensor([0., 0., 0., 0.])}\n"
     ]
    }
   ],
   "source": [
    "# 加载和保存张量\n",
    "\n",
    "x = torch.tensor([1, 2, 3])\n",
    "torch.save(x, 'x_file')\n",
    "x2 = torch.load('x_file', weights_only=True)\n",
    "print(x2)\n",
    "\n",
    "y = torch.zeros(4)\n",
    "torch.save([x, y], 'x_files')\n",
    "x2, y2 = torch.load('x_files', weights_only=True)\n",
    "print(x2, y2)\n",
    "\n",
    "mydict = {'x': x, 'y': y}\n",
    "torch.save(mydict, 'mydict')\n",
    "mydict2 = torch.load('mydict', weights_only=True)\n",
    "print(mydict2)"
   ]
  },
  {
   "cell_type": "code",
   "execution_count": 17,
   "id": "2de00bbf",
   "metadata": {},
   "outputs": [
    {
     "name": "stdout",
     "output_type": "stream",
     "text": [
      "tensor([[True, True, True, True, True, True, True, True, True, True],\n",
      "        [True, True, True, True, True, True, True, True, True, True]])\n"
     ]
    }
   ],
   "source": [
    "# 加载和保存模型参数\n",
    "\n",
    "class MLP(nn.Module):\n",
    "    def __init__(self):\n",
    "        super().__init__()\n",
    "        self.layer1 = nn.Linear(20, 256)\n",
    "        self.layer2 = nn.Linear(256, 10)\n",
    "    \n",
    "    def forward(self, x):\n",
    "        return self.layer2(F.relu(self.layer1(x)))\n",
    "\n",
    "mlp = MLP()\n",
    "torch.save(mlp.state_dict(), 'mlp_params') # 只能存模型的参数\n",
    "\n",
    "X = torch.randn([2, 20])\n",
    "Y = mlp(X)\n",
    "\n",
    "clone = MLP() # 需要先建立源模型\n",
    "clone.load_state_dict(torch.load('mlp_params', weights_only=True)) # 再读入模型参数\n",
    "clone.eval() # 预测模式\n",
    "\n",
    "Y2 = mlp(X)\n",
    "\n",
    "print(Y == Y2)"
   ]
  },
  {
   "cell_type": "code",
   "execution_count": null,
   "id": "f6ec18c7",
   "metadata": {},
   "outputs": [],
   "source": []
  }
 ],
 "metadata": {
  "kernelspec": {
   "display_name": "pytorch",
   "language": "python",
   "name": "pytorch"
  },
  "language_info": {
   "codemirror_mode": {
    "name": "ipython",
    "version": 3
   },
   "file_extension": ".py",
   "mimetype": "text/x-python",
   "name": "python",
   "nbconvert_exporter": "python",
   "pygments_lexer": "ipython3",
   "version": "3.10.15"
  }
 },
 "nbformat": 4,
 "nbformat_minor": 5
}
